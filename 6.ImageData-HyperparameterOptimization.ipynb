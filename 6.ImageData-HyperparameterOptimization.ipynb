{
 "cells": [
  {
   "cell_type": "markdown",
   "metadata": {},
   "source": [
    "# AutoML with Image data  - Hyperparameter Optimization\n",
    "\n",
    "\n",
    "In the previous tutorial on using AutoGluon for image data, we saw that deep learning involves tons of design decisions (we call these *hyperparameters*) that affect the performance of the resulting model. Some common hyperparameters include choices around:\n",
    "\n",
    "- [**Network Architecture**](http://d2l.ai/chapter_convolutional-modern/index.html): how many layers should our network have, how many weights in each fully-connected layer, how many filters in each convolutional layer and what size should each one be, should residual connections be employed, what activation function, etc. \n",
    "\n",
    "- **Optimizing network parameters**: [which optimization algorithm to use](https://ruder.io/optimizing-gradient-descent/), [what learning rate to use](http://d2l.ai/chapter_optimization/lr-scheduler.html), [how to set a dynamic learning rate schedule](http://d2l.ai/chapter_optimization/lr-scheduler.html), etc.\n",
    "\n",
    "- **Regularization**: To what degree should we use the following: [dropout](http://d2l.ai/chapter_multilayer-perceptrons/dropout.html?highlight=dropout), [weight decay](http://d2l.ai/chapter_multilayer-perceptrons/weight-decay.html?highlight=weight%20decay), [batch normalization](http://d2l.ai/chapter_convolutional-modern/batch-norm.html?highlight=batch%20normalization), etc.\n",
    "\n",
    "- **Transfer Learning**: Should we initialize our network from a [pretrained model](http://d2l.ai/chapter_computer-vision/fine-tuning.html) and if so [which one](https://gluon-cv.mxnet.io/model_zoo/classification.html)?\n",
    "\n",
    "- **Data Augmentation**: Should we augment our training data with synthetically-generated examples and if so using which [augmentation technique](http://d2l.ai/chapter_computer-vision/image-augmentation.html)?\n",
    "\n",
    "\n",
    "\n",
    "\n",
    "Unlike simpler models used for tabular data for which reasonable default hyperparameters exist, the complex neural networks used for image (and text) data will be limited to suboptimal accuracy unless their hyperparameters are appropriately chosen. Because it's usually unclear what hyperparameter choices will be good for a particular dataset, \n",
    "deep learning has sometimes been referred to as [*dark magic*](https://medium.com/@alitech_2017/revealing-the-dark-magic-behind-deep-learning-eae1b451354d) or [*alchemy*](https://www.youtube.com/watch?v=x7psGHgatGM).\n",
    "\n",
    "To address this issue, AutoGluon trains many networks with different hyperparameter choices for each. Instead of having to know what specific hyperparameter-values to use, you can instead specify a search space of many hyperparameters to consider, and also specify *how* to search through this hyperparameter space for the best configuration. \n",
    "If these are properly specified, you may be able to achieve superior accuracy within less training time, but even using AutoGluon's default hyperparameter search-space/search-strategy should allow you to achieve reasonable accuracy if you let `fit()` run long enough (with many trials).\n"
   ]
  },
  {
   "cell_type": "markdown",
   "metadata": {},
   "source": [
    "Here we'll work with same image classification data as before. Recall that `fit()` will automatically partition the provided data into disjoint training/validation sets."
   ]
  },
  {
   "cell_type": "code",
   "execution_count": 1,
   "metadata": {},
   "outputs": [],
   "source": [
    "import autogluon as ag\n",
    "from autogluon import ImageClassification as task\n",
    "import gluoncv\n",
    "\n",
    "filename = ag.download('https://autogluon.s3.amazonaws.com/datasets/shopee-iet.zip')\n",
    "ag.unzip(filename)\n",
    "\n",
    "dataset = task.Dataset('data/train')"
   ]
  },
  {
   "cell_type": "markdown",
   "metadata": {},
   "source": [
    "## Specify which Pretrained Networks to consider\n",
    "\n",
    "Instead of relying on the default options, we can specify which pretrained neural network candidates AutoGluon should consider during `fit()`. \n",
    "Given such a list, AutoGluon will try training different networks from this list to identify the best-performing candidate. \n",
    "This is an example of an `autogluon.space.Categorical` search space, in which there are a limited number of values to choose from. In our example below, the options are: [ResNet18 or MobileNetV2](https://gluon-cv.mxnet.io/model_zoo/classification.html), where AutoGluon also will search over three values (0.25, 0.5, 1.0) of the latter network's own [`multiplier`](https://gluon-cv.mxnet.io/_modules/gluoncv/model_zoo/mobilenet.html#MobileNetV2) hyperparameter (which controls this network's width)."
   ]
  },
  {
   "cell_type": "code",
   "execution_count": 2,
   "metadata": {},
   "outputs": [
    {
     "name": "stdout",
     "output_type": "stream",
     "text": [
      "Categorical['resnet18_v1b', AutoGluonObject]\n"
     ]
    }
   ],
   "source": [
    "@ag.func(\n",
    "    multiplier=ag.Categorical(0.25, 0.5, 1.0),\n",
    ")\n",
    "def get_mobilenet(multiplier):\n",
    "    return gluoncv.model_zoo.MobileNetV2(multiplier=multiplier, classes=4)\n",
    "\n",
    "net = ag.space.Categorical('resnet18_v1b', get_mobilenet())\n",
    "print(net)"
   ]
  },
  {
   "cell_type": "markdown",
   "metadata": {},
   "source": [
    "## Specify Optimizer Hyperparameters to consider\n",
    "\n",
    "Similarly, we can construct another search-space to identify what optimization hyperparameters work best for our task. Here we demonstrate this for the [Nesterov Accelerated SGD](https://arxiv.org/pdf/1607.01981.pdf) optimizer, specifying `autogluon.space.Real` spaces that instruct AutoGluon to search within continuous-valued ranges (optionally on a log-scale). Note that you can use analogous AutoGluon code to search the hyperparameters (here, constructor-arguments) of *any* Python object that gets passed into the training function."
   ]
  },
  {
   "cell_type": "code",
   "execution_count": 3,
   "metadata": {},
   "outputs": [
    {
     "name": "stdout",
     "output_type": "stream",
     "text": [
      "AutoGluonObject -- NAG\n"
     ]
    }
   ],
   "source": [
    "from mxnet import optimizer as optim\n",
    "\n",
    "@ag.obj(\n",
    "    learning_rate=ag.space.Real(1e-4, 1e-2, log=True),\n",
    "    momentum=ag.space.Real(0.85, 0.95),\n",
    "    wd=ag.space.Real(1e-6, 1e-2, log=True)\n",
    ")\n",
    "class NAG(optim.NAG):\n",
    "    pass\n",
    "\n",
    "optimizer = NAG()\n",
    "print(optimizer)"
   ]
  },
  {
   "cell_type": "markdown",
   "metadata": {},
   "source": [
    "## Search Algorithms\n",
    " \n",
    "Beyond specifying the space of hyperparameter configurations to consider, you can also tell AutoGluon what strategy it should employ to actually search through this space ([`autogluon.searcher`](https://autogluon.mxnet.io/api/autogluon.searcher.html)). AutoGluon supports various [search strategies](https://autogluon.mxnet.io/api/autogluon.searcher.html) to seek out the best hyperparameter values. \n",
    "This process of finding good hyperparameters from a given search space is commonly referred to as *hyperparameter optimization* (HPO) or *hyperparameter tuning*. \n",
    "After the searcher has specified which hyperparameter configurations to try next, \n",
    "AutoGluon relies on a scheduler to actually launch & orchestrate training jobs under these hyperparameter-settings ([`autogluon.scheduler`](https://autogluon.mxnet.io/api/autogluon.scheduler.html)).\n",
    "\n",
    "<img src=\"files/images/autogluon_system.png\" width=\"500\" height=\"400\">\n",
    "\n",
    "- **Searcher**: suggests promising hyperparameter configurations for the next training jobs.\n",
    "- **Scheduler**: launches the training jobs once computation resources become available and monitors training progress.\n",
    "\n",
    "The basic first-in first-out (FIFO) scheduler simply runs training jobs in the order that hyperparameter-configurations are suggested by the searcher ([`autogluon.scheduler.FIFOScheduler`](https://autogluon.mxnet.io/api/autogluon.scheduler.html#autogluon.scheduler.FIFOScheduler)). If one training job does not require all of the available compute resources, the scheduler may launch others in parallel while sufficient compute resources remain available. A straightforward HPO approach combines this FIFO scheduler with a searcher that just randomly samples hyperparameter-configurations to try next ([`autogluon.searcher.RandomSearcher`](https://autogluon.mxnet.io/api/autogluon.searcher.html#autogluon.searcher.RandomSearcher)). While it seems naive, random search can be [suprisingly competitive in practice](https://www.argmin.net/2016/06/20/hypertuning/), and is [usually better than grid search for optimizing many hyperparameters](http://www.jmlr.org/papers/volume13/bergstra12a/bergstra12a.pdf).\n",
    "\n",
    "\n",
    "### Bayesian Optimization\n",
    "\n",
    "From the previously-tried (hyperparameter-configuration, validation-performance) observations, [Bayesian Optimization](https://distill.pub/2020/bayesian-optimization/) fits a probabilistic *surrogate model* to estimate the underlying function that relates each hyperparameter configuration to the resulting validation performance of a model trained under this hyperparameter configuration ([Agnihotri et al, 2020](https://distill.pub/2020/bayesian-optimization/)).  We next use these probabilistic posterior estimates to decide which hyperparameter-configuration to try in the next training job. Here we follow an *acquisition function* that controls whether we prefer to try a configuration we are confident should perform well (because we've previously observed similar configurations with good performance), or a configuration whose performance we are highly uncertain about (because we've not previously tried any remotely similar configurations). After the new training job completes, we can use the performance produced by this new hyperparameter-configuration to update our surrogate model, and then keep iterating this process.\n",
    "\n",
    "<img src=\"files/images/bayesopt.png\" width=\"500\" height=\"400\">\n",
    "\n",
    "Below we show how to use Bayesian Optimization for the HPO search with [`autogluon.searcher.SKoptSearcher`](https://autogluon.mxnet.io/api/autogluon.searcher.html#autogluon.searcher.SKoptSearcher).  You can (optionally) specify what kind of surrogate model to use (Gaussian Process, Random Forest, etc.), as well as which acquisition function to employ (eg. [Expected Improvement, Lower Confidence Bound, etc.](https://www.cs.ox.ac.uk/people/nando.defreitas/publications/BayesOptLoop.pdf)).  Here we instruct AutoGluon to perform Bayesian optimization using a Random Forest surrogate model with acquisitions based on Expected Improvement."
   ]
  },
  {
   "cell_type": "code",
   "execution_count": 4,
   "metadata": {},
   "outputs": [
    {
     "name": "stderr",
     "output_type": "stream",
     "text": [
      "scheduler_options: Key 'training_history_callback_delta_secs': Imputing default value 60\n",
      "scheduler_options: Key 'delay_get_config': Imputing default value True\n",
      "\n",
      "Starting Experiments\n",
      "Num of Finished Tasks is 0\n",
      "Num of Pending Tasks is 4\n"
     ]
    },
    {
     "name": "stdout",
     "output_type": "stream",
     "text": [
      "scheduler: FIFOScheduler(\n",
      "DistributedResourceManager{\n",
      "(Remote: Remote REMOTE_ID: 0, \n",
      "\t<Remote: 'inproc://172.31.68.247/2447/1' processes=1 threads=4, memory=64.28 GB>, Resource: NodeResourceManager(4 CPUs, 1 GPUs))\n",
      "})\n",
      "\n"
     ]
    },
    {
     "data": {
      "application/vnd.jupyter.widget-view+json": {
       "model_id": "66bbd227f332483997d779d3c8f76452",
       "version_major": 2,
       "version_minor": 0
      },
      "text/plain": [
       "HBox(children=(FloatProgress(value=0.0, max=4.0), HTML(value='')))"
      ]
     },
     "metadata": {},
     "output_type": "display_data"
    },
    {
     "name": "stderr",
     "output_type": "stream",
     "text": [
      "{'dataset': <autogluon.task.image_classification.dataset.NativeImageFolderDataset object at 0x7f09c8c4add0>, 'net': 'resnet18_v1b', 'optimizer': <__main__.NAG object at 0x7f09c0042110>, 'loss': SoftmaxCrossEntropyLoss(batch_axis=0, w=None), 'metric': 'accuracy', 'num_gpus': 1, 'split_ratio': 0.8, 'batch_size': 64, 'input_size': 224, 'epochs': 2, 'final_fit_epochs': 2, 'verbose': True, 'num_workers': 4, 'hybridize': True, 'final_fit': False, 'tricks': Dict{'last_gamma': False, 'use_pretrained': True, 'use_se': False, 'mixup': False, 'mixup_alpha': 0.2, 'mixup_off_epoch': 0, 'label_smoothing': False, 'no_wd': False, 'teacher_name': None, 'temperature': 20.0, 'hard_weight': 0.5, 'batch_norm': False, 'use_gn': False}, 'lr_config': Dict{'lr_mode': 'cosine', 'lr_decay': 0.1, 'lr_decay_period': 0, 'lr_decay_epoch': '40,80', 'warmup_lr': 0.0, 'warmup_epochs': 0}, 'task_id': 0}\n"
     ]
    },
    {
     "data": {
      "application/vnd.jupyter.widget-view+json": {
       "model_id": "367b190dfe674b1f9f613a65439c0300",
       "version_major": 2,
       "version_minor": 0
      },
      "text/plain": [
       "VBox(children=(HBox(children=(IntProgress(value=0, max=2), HTML(value=''))), HTML(value='')))"
      ]
     },
     "metadata": {},
     "output_type": "display_data"
    },
    {
     "name": "stdout",
     "output_type": "stream",
     "text": [
      "\n"
     ]
    },
    {
     "name": "stderr",
     "output_type": "stream",
     "text": [
      "{'dataset': <autogluon.task.image_classification.dataset.NativeImageFolderDataset object at 0x7f09c00d8ed0>, 'net': MobileNetV2(\n",
      "  (features): HybridSequential(\n",
      "    (0): Conv2D(None -> 32, kernel_size=(3, 3), stride=(2, 2), padding=(1, 1), bias=False)\n",
      "    (1): BatchNorm(axis=1, eps=1e-05, momentum=0.9, fix_gamma=False, use_global_stats=False, in_channels=None)\n",
      "    (2): ReLU6(\n",
      "    \n",
      "    )\n",
      "    (3): LinearBottleneck(\n",
      "      (out): HybridSequential(\n",
      "        (0): Conv2D(None -> 32, kernel_size=(3, 3), stride=(1, 1), padding=(1, 1), groups=32, bias=False)\n",
      "        (1): BatchNorm(axis=1, eps=1e-05, momentum=0.9, fix_gamma=False, use_global_stats=False, in_channels=None)\n",
      "        (2): ReLU6(\n",
      "        \n",
      "        )\n",
      "        (3): Conv2D(None -> 16, kernel_size=(1, 1), stride=(1, 1), bias=False)\n",
      "        (4): BatchNorm(axis=1, eps=1e-05, momentum=0.9, fix_gamma=False, use_global_stats=False, in_channels=None)\n",
      "      )\n",
      "    )\n",
      "    (4): LinearBottleneck(\n",
      "      (out): HybridSequential(\n",
      "        (0): Conv2D(None -> 96, kernel_size=(1, 1), stride=(1, 1), bias=False)\n",
      "        (1): BatchNorm(axis=1, eps=1e-05, momentum=0.9, fix_gamma=False, use_global_stats=False, in_channels=None)\n",
      "        (2): ReLU6(\n",
      "        \n",
      "        )\n",
      "        (3): Conv2D(None -> 96, kernel_size=(3, 3), stride=(2, 2), padding=(1, 1), groups=96, bias=False)\n",
      "        (4): BatchNorm(axis=1, eps=1e-05, momentum=0.9, fix_gamma=False, use_global_stats=False, in_channels=None)\n",
      "        (5): ReLU6(\n",
      "        \n",
      "        )\n",
      "        (6): Conv2D(None -> 24, kernel_size=(1, 1), stride=(1, 1), bias=False)\n",
      "        (7): BatchNorm(axis=1, eps=1e-05, momentum=0.9, fix_gamma=False, use_global_stats=False, in_channels=None)\n",
      "      )\n",
      "    )\n",
      "    (5): LinearBottleneck(\n",
      "      (out): HybridSequential(\n",
      "        (0): Conv2D(None -> 144, kernel_size=(1, 1), stride=(1, 1), bias=False)\n",
      "        (1): BatchNorm(axis=1, eps=1e-05, momentum=0.9, fix_gamma=False, use_global_stats=False, in_channels=None)\n",
      "        (2): ReLU6(\n",
      "        \n",
      "        )\n",
      "        (3): Conv2D(None -> 144, kernel_size=(3, 3), stride=(1, 1), padding=(1, 1), groups=144, bias=False)\n",
      "        (4): BatchNorm(axis=1, eps=1e-05, momentum=0.9, fix_gamma=False, use_global_stats=False, in_channels=None)\n",
      "        (5): ReLU6(\n",
      "        \n",
      "        )\n",
      "        (6): Conv2D(None -> 24, kernel_size=(1, 1), stride=(1, 1), bias=False)\n",
      "        (7): BatchNorm(axis=1, eps=1e-05, momentum=0.9, fix_gamma=False, use_global_stats=False, in_channels=None)\n",
      "      )\n",
      "    )\n",
      "    (6): LinearBottleneck(\n",
      "      (out): HybridSequential(\n",
      "        (0): Conv2D(None -> 144, kernel_size=(1, 1), stride=(1, 1), bias=False)\n",
      "        (1): BatchNorm(axis=1, eps=1e-05, momentum=0.9, fix_gamma=False, use_global_stats=False, in_channels=None)\n",
      "        (2): ReLU6(\n",
      "        \n",
      "        )\n",
      "        (3): Conv2D(None -> 144, kernel_size=(3, 3), stride=(2, 2), padding=(1, 1), groups=144, bias=False)\n",
      "        (4): BatchNorm(axis=1, eps=1e-05, momentum=0.9, fix_gamma=False, use_global_stats=False, in_channels=None)\n",
      "        (5): ReLU6(\n",
      "        \n",
      "        )\n",
      "        (6): Conv2D(None -> 32, kernel_size=(1, 1), stride=(1, 1), bias=False)\n",
      "        (7): BatchNorm(axis=1, eps=1e-05, momentum=0.9, fix_gamma=False, use_global_stats=False, in_channels=None)\n",
      "      )\n",
      "    )\n",
      "    (7): LinearBottleneck(\n",
      "      (out): HybridSequential(\n",
      "        (0): Conv2D(None -> 192, kernel_size=(1, 1), stride=(1, 1), bias=False)\n",
      "        (1): BatchNorm(axis=1, eps=1e-05, momentum=0.9, fix_gamma=False, use_global_stats=False, in_channels=None)\n",
      "        (2): ReLU6(\n",
      "        \n",
      "        )\n",
      "        (3): Conv2D(None -> 192, kernel_size=(3, 3), stride=(1, 1), padding=(1, 1), groups=192, bias=False)\n",
      "        (4): BatchNorm(axis=1, eps=1e-05, momentum=0.9, fix_gamma=False, use_global_stats=False, in_channels=None)\n",
      "        (5): ReLU6(\n",
      "        \n",
      "        )\n",
      "        (6): Conv2D(None -> 32, kernel_size=(1, 1), stride=(1, 1), bias=False)\n",
      "        (7): BatchNorm(axis=1, eps=1e-05, momentum=0.9, fix_gamma=False, use_global_stats=False, in_channels=None)\n",
      "      )\n",
      "    )\n",
      "    (8): LinearBottleneck(\n",
      "      (out): HybridSequential(\n",
      "        (0): Conv2D(None -> 192, kernel_size=(1, 1), stride=(1, 1), bias=False)\n",
      "        (1): BatchNorm(axis=1, eps=1e-05, momentum=0.9, fix_gamma=False, use_global_stats=False, in_channels=None)\n",
      "        (2): ReLU6(\n",
      "        \n",
      "        )\n",
      "        (3): Conv2D(None -> 192, kernel_size=(3, 3), stride=(1, 1), padding=(1, 1), groups=192, bias=False)\n",
      "        (4): BatchNorm(axis=1, eps=1e-05, momentum=0.9, fix_gamma=False, use_global_stats=False, in_channels=None)\n",
      "        (5): ReLU6(\n",
      "        \n",
      "        )\n",
      "        (6): Conv2D(None -> 32, kernel_size=(1, 1), stride=(1, 1), bias=False)\n",
      "        (7): BatchNorm(axis=1, eps=1e-05, momentum=0.9, fix_gamma=False, use_global_stats=False, in_channels=None)\n",
      "      )\n",
      "    )\n",
      "    (9): LinearBottleneck(\n",
      "      (out): HybridSequential(\n",
      "        (0): Conv2D(None -> 192, kernel_size=(1, 1), stride=(1, 1), bias=False)\n",
      "        (1): BatchNorm(axis=1, eps=1e-05, momentum=0.9, fix_gamma=False, use_global_stats=False, in_channels=None)\n",
      "        (2): ReLU6(\n",
      "        \n",
      "        )\n",
      "        (3): Conv2D(None -> 192, kernel_size=(3, 3), stride=(2, 2), padding=(1, 1), groups=192, bias=False)\n",
      "        (4): BatchNorm(axis=1, eps=1e-05, momentum=0.9, fix_gamma=False, use_global_stats=False, in_channels=None)\n",
      "        (5): ReLU6(\n",
      "        \n",
      "        )\n",
      "        (6): Conv2D(None -> 64, kernel_size=(1, 1), stride=(1, 1), bias=False)\n",
      "        (7): BatchNorm(axis=1, eps=1e-05, momentum=0.9, fix_gamma=False, use_global_stats=False, in_channels=None)\n",
      "      )\n",
      "    )\n",
      "    (10): LinearBottleneck(\n",
      "      (out): HybridSequential(\n",
      "        (0): Conv2D(None -> 384, kernel_size=(1, 1), stride=(1, 1), bias=False)\n",
      "        (1): BatchNorm(axis=1, eps=1e-05, momentum=0.9, fix_gamma=False, use_global_stats=False, in_channels=None)\n",
      "        (2): ReLU6(\n",
      "        \n",
      "        )\n",
      "        (3): Conv2D(None -> 384, kernel_size=(3, 3), stride=(1, 1), padding=(1, 1), groups=384, bias=False)\n",
      "        (4): BatchNorm(axis=1, eps=1e-05, momentum=0.9, fix_gamma=False, use_global_stats=False, in_channels=None)\n",
      "        (5): ReLU6(\n",
      "        \n",
      "        )\n",
      "        (6): Conv2D(None -> 64, kernel_size=(1, 1), stride=(1, 1), bias=False)\n",
      "        (7): BatchNorm(axis=1, eps=1e-05, momentum=0.9, fix_gamma=False, use_global_stats=False, in_channels=None)\n",
      "      )\n",
      "    )\n",
      "    (11): LinearBottleneck(\n",
      "      (out): HybridSequential(\n",
      "        (0): Conv2D(None -> 384, kernel_size=(1, 1), stride=(1, 1), bias=False)\n",
      "        (1): BatchNorm(axis=1, eps=1e-05, momentum=0.9, fix_gamma=False, use_global_stats=False, in_channels=None)\n",
      "        (2): ReLU6(\n",
      "        \n",
      "        )\n",
      "        (3): Conv2D(None -> 384, kernel_size=(3, 3), stride=(1, 1), padding=(1, 1), groups=384, bias=False)\n",
      "        (4): BatchNorm(axis=1, eps=1e-05, momentum=0.9, fix_gamma=False, use_global_stats=False, in_channels=None)\n",
      "        (5): ReLU6(\n",
      "        \n",
      "        )\n",
      "        (6): Conv2D(None -> 64, kernel_size=(1, 1), stride=(1, 1), bias=False)\n",
      "        (7): BatchNorm(axis=1, eps=1e-05, momentum=0.9, fix_gamma=False, use_global_stats=False, in_channels=None)\n",
      "      )\n",
      "    )\n",
      "    (12): LinearBottleneck(\n",
      "      (out): HybridSequential(\n",
      "        (0): Conv2D(None -> 384, kernel_size=(1, 1), stride=(1, 1), bias=False)\n",
      "        (1): BatchNorm(axis=1, eps=1e-05, momentum=0.9, fix_gamma=False, use_global_stats=False, in_channels=None)\n",
      "        (2): ReLU6(\n",
      "        \n",
      "        )\n",
      "        (3): Conv2D(None -> 384, kernel_size=(3, 3), stride=(1, 1), padding=(1, 1), groups=384, bias=False)\n",
      "        (4): BatchNorm(axis=1, eps=1e-05, momentum=0.9, fix_gamma=False, use_global_stats=False, in_channels=None)\n",
      "        (5): ReLU6(\n",
      "        \n",
      "        )\n",
      "        (6): Conv2D(None -> 64, kernel_size=(1, 1), stride=(1, 1), bias=False)\n",
      "        (7): BatchNorm(axis=1, eps=1e-05, momentum=0.9, fix_gamma=False, use_global_stats=False, in_channels=None)\n",
      "      )\n",
      "    )\n",
      "    (13): LinearBottleneck(\n",
      "      (out): HybridSequential(\n",
      "        (0): Conv2D(None -> 384, kernel_size=(1, 1), stride=(1, 1), bias=False)\n",
      "        (1): BatchNorm(axis=1, eps=1e-05, momentum=0.9, fix_gamma=False, use_global_stats=False, in_channels=None)\n",
      "        (2): ReLU6(\n",
      "        \n",
      "        )\n",
      "        (3): Conv2D(None -> 384, kernel_size=(3, 3), stride=(1, 1), padding=(1, 1), groups=384, bias=False)\n",
      "        (4): BatchNorm(axis=1, eps=1e-05, momentum=0.9, fix_gamma=False, use_global_stats=False, in_channels=None)\n",
      "        (5): ReLU6(\n",
      "        \n",
      "        )\n",
      "        (6): Conv2D(None -> 96, kernel_size=(1, 1), stride=(1, 1), bias=False)\n",
      "        (7): BatchNorm(axis=1, eps=1e-05, momentum=0.9, fix_gamma=False, use_global_stats=False, in_channels=None)\n",
      "      )\n",
      "    )\n",
      "    (14): LinearBottleneck(\n",
      "      (out): HybridSequential(\n",
      "        (0): Conv2D(None -> 576, kernel_size=(1, 1), stride=(1, 1), bias=False)\n",
      "        (1): BatchNorm(axis=1, eps=1e-05, momentum=0.9, fix_gamma=False, use_global_stats=False, in_channels=None)\n",
      "        (2): ReLU6(\n",
      "        \n",
      "        )\n",
      "        (3): Conv2D(None -> 576, kernel_size=(3, 3), stride=(1, 1), padding=(1, 1), groups=576, bias=False)\n",
      "        (4): BatchNorm(axis=1, eps=1e-05, momentum=0.9, fix_gamma=False, use_global_stats=False, in_channels=None)\n",
      "        (5): ReLU6(\n",
      "        \n",
      "        )\n",
      "        (6): Conv2D(None -> 96, kernel_size=(1, 1), stride=(1, 1), bias=False)\n",
      "        (7): BatchNorm(axis=1, eps=1e-05, momentum=0.9, fix_gamma=False, use_global_stats=False, in_channels=None)\n",
      "      )\n",
      "    )\n",
      "    (15): LinearBottleneck(\n",
      "      (out): HybridSequential(\n",
      "        (0): Conv2D(None -> 576, kernel_size=(1, 1), stride=(1, 1), bias=False)\n",
      "        (1): BatchNorm(axis=1, eps=1e-05, momentum=0.9, fix_gamma=False, use_global_stats=False, in_channels=None)\n",
      "        (2): ReLU6(\n",
      "        \n",
      "        )\n",
      "        (3): Conv2D(None -> 576, kernel_size=(3, 3), stride=(1, 1), padding=(1, 1), groups=576, bias=False)\n",
      "        (4): BatchNorm(axis=1, eps=1e-05, momentum=0.9, fix_gamma=False, use_global_stats=False, in_channels=None)\n",
      "        (5): ReLU6(\n",
      "        \n",
      "        )\n",
      "        (6): Conv2D(None -> 96, kernel_size=(1, 1), stride=(1, 1), bias=False)\n",
      "        (7): BatchNorm(axis=1, eps=1e-05, momentum=0.9, fix_gamma=False, use_global_stats=False, in_channels=None)\n",
      "      )\n",
      "    )\n",
      "    (16): LinearBottleneck(\n",
      "      (out): HybridSequential(\n",
      "        (0): Conv2D(None -> 576, kernel_size=(1, 1), stride=(1, 1), bias=False)\n",
      "        (1): BatchNorm(axis=1, eps=1e-05, momentum=0.9, fix_gamma=False, use_global_stats=False, in_channels=None)\n",
      "        (2): ReLU6(\n",
      "        \n",
      "        )\n",
      "        (3): Conv2D(None -> 576, kernel_size=(3, 3), stride=(2, 2), padding=(1, 1), groups=576, bias=False)\n",
      "        (4): BatchNorm(axis=1, eps=1e-05, momentum=0.9, fix_gamma=False, use_global_stats=False, in_channels=None)\n",
      "        (5): ReLU6(\n",
      "        \n",
      "        )\n",
      "        (6): Conv2D(None -> 160, kernel_size=(1, 1), stride=(1, 1), bias=False)\n",
      "        (7): BatchNorm(axis=1, eps=1e-05, momentum=0.9, fix_gamma=False, use_global_stats=False, in_channels=None)\n",
      "      )\n",
      "    )\n",
      "    (17): LinearBottleneck(\n",
      "      (out): HybridSequential(\n",
      "        (0): Conv2D(None -> 960, kernel_size=(1, 1), stride=(1, 1), bias=False)\n",
      "        (1): BatchNorm(axis=1, eps=1e-05, momentum=0.9, fix_gamma=False, use_global_stats=False, in_channels=None)\n",
      "        (2): ReLU6(\n",
      "        \n",
      "        )\n",
      "        (3): Conv2D(None -> 960, kernel_size=(3, 3), stride=(1, 1), padding=(1, 1), groups=960, bias=False)\n",
      "        (4): BatchNorm(axis=1, eps=1e-05, momentum=0.9, fix_gamma=False, use_global_stats=False, in_channels=None)\n",
      "        (5): ReLU6(\n",
      "        \n",
      "        )\n",
      "        (6): Conv2D(None -> 160, kernel_size=(1, 1), stride=(1, 1), bias=False)\n",
      "        (7): BatchNorm(axis=1, eps=1e-05, momentum=0.9, fix_gamma=False, use_global_stats=False, in_channels=None)\n",
      "      )\n",
      "    )\n",
      "    (18): LinearBottleneck(\n",
      "      (out): HybridSequential(\n",
      "        (0): Conv2D(None -> 960, kernel_size=(1, 1), stride=(1, 1), bias=False)\n",
      "        (1): BatchNorm(axis=1, eps=1e-05, momentum=0.9, fix_gamma=False, use_global_stats=False, in_channels=None)\n",
      "        (2): ReLU6(\n",
      "        \n",
      "        )\n",
      "        (3): Conv2D(None -> 960, kernel_size=(3, 3), stride=(1, 1), padding=(1, 1), groups=960, bias=False)\n",
      "        (4): BatchNorm(axis=1, eps=1e-05, momentum=0.9, fix_gamma=False, use_global_stats=False, in_channels=None)\n",
      "        (5): ReLU6(\n",
      "        \n",
      "        )\n",
      "        (6): Conv2D(None -> 160, kernel_size=(1, 1), stride=(1, 1), bias=False)\n",
      "        (7): BatchNorm(axis=1, eps=1e-05, momentum=0.9, fix_gamma=False, use_global_stats=False, in_channels=None)\n",
      "      )\n",
      "    )\n",
      "    (19): LinearBottleneck(\n",
      "      (out): HybridSequential(\n",
      "        (0): Conv2D(None -> 960, kernel_size=(1, 1), stride=(1, 1), bias=False)\n",
      "        (1): BatchNorm(axis=1, eps=1e-05, momentum=0.9, fix_gamma=False, use_global_stats=False, in_channels=None)\n",
      "        (2): ReLU6(\n",
      "        \n",
      "        )\n",
      "        (3): Conv2D(None -> 960, kernel_size=(3, 3), stride=(1, 1), padding=(1, 1), groups=960, bias=False)\n",
      "        (4): BatchNorm(axis=1, eps=1e-05, momentum=0.9, fix_gamma=False, use_global_stats=False, in_channels=None)\n",
      "        (5): ReLU6(\n",
      "        \n",
      "        )\n",
      "        (6): Conv2D(None -> 320, kernel_size=(1, 1), stride=(1, 1), bias=False)\n",
      "        (7): BatchNorm(axis=1, eps=1e-05, momentum=0.9, fix_gamma=False, use_global_stats=False, in_channels=None)\n",
      "      )\n",
      "    )\n",
      "    (20): Conv2D(None -> 1280, kernel_size=(1, 1), stride=(1, 1), bias=False)\n",
      "    (21): BatchNorm(axis=1, eps=1e-05, momentum=0.9, fix_gamma=False, use_global_stats=False, in_channels=None)\n",
      "    (22): ReLU6(\n",
      "    \n",
      "    )\n",
      "    (23): GlobalAvgPool2D(size=(1, 1), stride=(1, 1), padding=(0, 0), ceil_mode=True, global_pool=True, pool_type=avg, layout=NCHW)\n",
      "  )\n",
      "  (output): HybridSequential(\n",
      "    (0): Conv2D(None -> 4, kernel_size=(1, 1), stride=(1, 1), bias=False)\n",
      "    (1): Flatten\n",
      "  )\n",
      "), 'optimizer': <__main__.NAG object at 0x7f09c012ecd0>, 'loss': SoftmaxCrossEntropyLoss(batch_axis=0, w=None), 'metric': 'accuracy', 'num_gpus': 1, 'split_ratio': 0.8, 'batch_size': 64, 'input_size': 224, 'epochs': 2, 'final_fit_epochs': 2, 'verbose': True, 'num_workers': 4, 'hybridize': True, 'final_fit': False, 'tricks': Dict{'last_gamma': False, 'use_pretrained': True, 'use_se': False, 'mixup': False, 'mixup_alpha': 0.2, 'mixup_off_epoch': 0, 'label_smoothing': False, 'no_wd': False, 'teacher_name': None, 'temperature': 20.0, 'hard_weight': 0.5, 'batch_norm': False, 'use_gn': False}, 'lr_config': Dict{'lr_mode': 'cosine', 'lr_decay': 0.1, 'lr_decay_period': 0, 'lr_decay_epoch': '40,80', 'warmup_lr': 0.0, 'warmup_epochs': 0}, 'task_id': 1}\n"
     ]
    },
    {
     "data": {
      "application/vnd.jupyter.widget-view+json": {
       "model_id": "ad862d8823ee4b70ab5f701049cd17b6",
       "version_major": 2,
       "version_minor": 0
      },
      "text/plain": [
       "VBox(children=(HBox(children=(IntProgress(value=0, max=2), HTML(value=''))), HTML(value='')))"
      ]
     },
     "metadata": {},
     "output_type": "display_data"
    },
    {
     "name": "stdout",
     "output_type": "stream",
     "text": [
      "\n"
     ]
    },
    {
     "name": "stderr",
     "output_type": "stream",
     "text": [
      "{'dataset': <autogluon.task.image_classification.dataset.NativeImageFolderDataset object at 0x7f099c4a8790>, 'net': 'resnet18_v1b', 'optimizer': <__main__.NAG object at 0x7f099c4a3390>, 'loss': SoftmaxCrossEntropyLoss(batch_axis=0, w=None), 'metric': 'accuracy', 'num_gpus': 1, 'split_ratio': 0.8, 'batch_size': 64, 'input_size': 224, 'epochs': 2, 'final_fit_epochs': 2, 'verbose': True, 'num_workers': 4, 'hybridize': True, 'final_fit': False, 'tricks': Dict{'last_gamma': False, 'use_pretrained': True, 'use_se': False, 'mixup': False, 'mixup_alpha': 0.2, 'mixup_off_epoch': 0, 'label_smoothing': False, 'no_wd': False, 'teacher_name': None, 'temperature': 20.0, 'hard_weight': 0.5, 'batch_norm': False, 'use_gn': False}, 'lr_config': Dict{'lr_mode': 'cosine', 'lr_decay': 0.1, 'lr_decay_period': 0, 'lr_decay_epoch': '40,80', 'warmup_lr': 0.0, 'warmup_epochs': 0}, 'task_id': 2}\n"
     ]
    },
    {
     "data": {
      "application/vnd.jupyter.widget-view+json": {
       "model_id": "22f31d86285541e0801f200e5af10973",
       "version_major": 2,
       "version_minor": 0
      },
      "text/plain": [
       "VBox(children=(HBox(children=(IntProgress(value=0, max=2), HTML(value=''))), HTML(value='')))"
      ]
     },
     "metadata": {},
     "output_type": "display_data"
    },
    {
     "name": "stdout",
     "output_type": "stream",
     "text": [
      "\n",
      "\n"
     ]
    },
    {
     "name": "stderr",
     "output_type": "stream",
     "text": [
      "{'dataset': <autogluon.task.image_classification.dataset.NativeImageFolderDataset object at 0x7f099ffccd10>, 'net': MobileNetV2(\n",
      "  (features): HybridSequential(\n",
      "    (0): Conv2D(None -> 32, kernel_size=(3, 3), stride=(2, 2), padding=(1, 1), bias=False)\n",
      "    (1): BatchNorm(axis=1, eps=1e-05, momentum=0.9, fix_gamma=False, use_global_stats=False, in_channels=None)\n",
      "    (2): ReLU6(\n",
      "    \n",
      "    )\n",
      "    (3): LinearBottleneck(\n",
      "      (out): HybridSequential(\n",
      "        (0): Conv2D(None -> 32, kernel_size=(3, 3), stride=(1, 1), padding=(1, 1), groups=32, bias=False)\n",
      "        (1): BatchNorm(axis=1, eps=1e-05, momentum=0.9, fix_gamma=False, use_global_stats=False, in_channels=None)\n",
      "        (2): ReLU6(\n",
      "        \n",
      "        )\n",
      "        (3): Conv2D(None -> 16, kernel_size=(1, 1), stride=(1, 1), bias=False)\n",
      "        (4): BatchNorm(axis=1, eps=1e-05, momentum=0.9, fix_gamma=False, use_global_stats=False, in_channels=None)\n",
      "      )\n",
      "    )\n",
      "    (4): LinearBottleneck(\n",
      "      (out): HybridSequential(\n",
      "        (0): Conv2D(None -> 96, kernel_size=(1, 1), stride=(1, 1), bias=False)\n",
      "        (1): BatchNorm(axis=1, eps=1e-05, momentum=0.9, fix_gamma=False, use_global_stats=False, in_channels=None)\n",
      "        (2): ReLU6(\n",
      "        \n",
      "        )\n",
      "        (3): Conv2D(None -> 96, kernel_size=(3, 3), stride=(2, 2), padding=(1, 1), groups=96, bias=False)\n",
      "        (4): BatchNorm(axis=1, eps=1e-05, momentum=0.9, fix_gamma=False, use_global_stats=False, in_channels=None)\n",
      "        (5): ReLU6(\n",
      "        \n",
      "        )\n",
      "        (6): Conv2D(None -> 24, kernel_size=(1, 1), stride=(1, 1), bias=False)\n",
      "        (7): BatchNorm(axis=1, eps=1e-05, momentum=0.9, fix_gamma=False, use_global_stats=False, in_channels=None)\n",
      "      )\n",
      "    )\n",
      "    (5): LinearBottleneck(\n",
      "      (out): HybridSequential(\n",
      "        (0): Conv2D(None -> 144, kernel_size=(1, 1), stride=(1, 1), bias=False)\n",
      "        (1): BatchNorm(axis=1, eps=1e-05, momentum=0.9, fix_gamma=False, use_global_stats=False, in_channels=None)\n",
      "        (2): ReLU6(\n",
      "        \n",
      "        )\n",
      "        (3): Conv2D(None -> 144, kernel_size=(3, 3), stride=(1, 1), padding=(1, 1), groups=144, bias=False)\n",
      "        (4): BatchNorm(axis=1, eps=1e-05, momentum=0.9, fix_gamma=False, use_global_stats=False, in_channels=None)\n",
      "        (5): ReLU6(\n",
      "        \n",
      "        )\n",
      "        (6): Conv2D(None -> 24, kernel_size=(1, 1), stride=(1, 1), bias=False)\n",
      "        (7): BatchNorm(axis=1, eps=1e-05, momentum=0.9, fix_gamma=False, use_global_stats=False, in_channels=None)\n",
      "      )\n",
      "    )\n",
      "    (6): LinearBottleneck(\n",
      "      (out): HybridSequential(\n",
      "        (0): Conv2D(None -> 144, kernel_size=(1, 1), stride=(1, 1), bias=False)\n",
      "        (1): BatchNorm(axis=1, eps=1e-05, momentum=0.9, fix_gamma=False, use_global_stats=False, in_channels=None)\n",
      "        (2): ReLU6(\n",
      "        \n",
      "        )\n",
      "        (3): Conv2D(None -> 144, kernel_size=(3, 3), stride=(2, 2), padding=(1, 1), groups=144, bias=False)\n",
      "        (4): BatchNorm(axis=1, eps=1e-05, momentum=0.9, fix_gamma=False, use_global_stats=False, in_channels=None)\n",
      "        (5): ReLU6(\n",
      "        \n",
      "        )\n",
      "        (6): Conv2D(None -> 32, kernel_size=(1, 1), stride=(1, 1), bias=False)\n",
      "        (7): BatchNorm(axis=1, eps=1e-05, momentum=0.9, fix_gamma=False, use_global_stats=False, in_channels=None)\n",
      "      )\n",
      "    )\n",
      "    (7): LinearBottleneck(\n",
      "      (out): HybridSequential(\n",
      "        (0): Conv2D(None -> 192, kernel_size=(1, 1), stride=(1, 1), bias=False)\n",
      "        (1): BatchNorm(axis=1, eps=1e-05, momentum=0.9, fix_gamma=False, use_global_stats=False, in_channels=None)\n",
      "        (2): ReLU6(\n",
      "        \n",
      "        )\n",
      "        (3): Conv2D(None -> 192, kernel_size=(3, 3), stride=(1, 1), padding=(1, 1), groups=192, bias=False)\n",
      "        (4): BatchNorm(axis=1, eps=1e-05, momentum=0.9, fix_gamma=False, use_global_stats=False, in_channels=None)\n",
      "        (5): ReLU6(\n",
      "        \n",
      "        )\n",
      "        (6): Conv2D(None -> 32, kernel_size=(1, 1), stride=(1, 1), bias=False)\n",
      "        (7): BatchNorm(axis=1, eps=1e-05, momentum=0.9, fix_gamma=False, use_global_stats=False, in_channels=None)\n",
      "      )\n",
      "    )\n",
      "    (8): LinearBottleneck(\n",
      "      (out): HybridSequential(\n",
      "        (0): Conv2D(None -> 192, kernel_size=(1, 1), stride=(1, 1), bias=False)\n",
      "        (1): BatchNorm(axis=1, eps=1e-05, momentum=0.9, fix_gamma=False, use_global_stats=False, in_channels=None)\n",
      "        (2): ReLU6(\n",
      "        \n",
      "        )\n",
      "        (3): Conv2D(None -> 192, kernel_size=(3, 3), stride=(1, 1), padding=(1, 1), groups=192, bias=False)\n",
      "        (4): BatchNorm(axis=1, eps=1e-05, momentum=0.9, fix_gamma=False, use_global_stats=False, in_channels=None)\n",
      "        (5): ReLU6(\n",
      "        \n",
      "        )\n",
      "        (6): Conv2D(None -> 32, kernel_size=(1, 1), stride=(1, 1), bias=False)\n",
      "        (7): BatchNorm(axis=1, eps=1e-05, momentum=0.9, fix_gamma=False, use_global_stats=False, in_channels=None)\n",
      "      )\n",
      "    )\n",
      "    (9): LinearBottleneck(\n",
      "      (out): HybridSequential(\n",
      "        (0): Conv2D(None -> 192, kernel_size=(1, 1), stride=(1, 1), bias=False)\n",
      "        (1): BatchNorm(axis=1, eps=1e-05, momentum=0.9, fix_gamma=False, use_global_stats=False, in_channels=None)\n",
      "        (2): ReLU6(\n",
      "        \n",
      "        )\n",
      "        (3): Conv2D(None -> 192, kernel_size=(3, 3), stride=(2, 2), padding=(1, 1), groups=192, bias=False)\n",
      "        (4): BatchNorm(axis=1, eps=1e-05, momentum=0.9, fix_gamma=False, use_global_stats=False, in_channels=None)\n",
      "        (5): ReLU6(\n",
      "        \n",
      "        )\n",
      "        (6): Conv2D(None -> 64, kernel_size=(1, 1), stride=(1, 1), bias=False)\n",
      "        (7): BatchNorm(axis=1, eps=1e-05, momentum=0.9, fix_gamma=False, use_global_stats=False, in_channels=None)\n",
      "      )\n",
      "    )\n",
      "    (10): LinearBottleneck(\n",
      "      (out): HybridSequential(\n",
      "        (0): Conv2D(None -> 384, kernel_size=(1, 1), stride=(1, 1), bias=False)\n",
      "        (1): BatchNorm(axis=1, eps=1e-05, momentum=0.9, fix_gamma=False, use_global_stats=False, in_channels=None)\n",
      "        (2): ReLU6(\n",
      "        \n",
      "        )\n",
      "        (3): Conv2D(None -> 384, kernel_size=(3, 3), stride=(1, 1), padding=(1, 1), groups=384, bias=False)\n",
      "        (4): BatchNorm(axis=1, eps=1e-05, momentum=0.9, fix_gamma=False, use_global_stats=False, in_channels=None)\n",
      "        (5): ReLU6(\n",
      "        \n",
      "        )\n",
      "        (6): Conv2D(None -> 64, kernel_size=(1, 1), stride=(1, 1), bias=False)\n",
      "        (7): BatchNorm(axis=1, eps=1e-05, momentum=0.9, fix_gamma=False, use_global_stats=False, in_channels=None)\n",
      "      )\n",
      "    )\n",
      "    (11): LinearBottleneck(\n",
      "      (out): HybridSequential(\n",
      "        (0): Conv2D(None -> 384, kernel_size=(1, 1), stride=(1, 1), bias=False)\n",
      "        (1): BatchNorm(axis=1, eps=1e-05, momentum=0.9, fix_gamma=False, use_global_stats=False, in_channels=None)\n",
      "        (2): ReLU6(\n",
      "        \n",
      "        )\n",
      "        (3): Conv2D(None -> 384, kernel_size=(3, 3), stride=(1, 1), padding=(1, 1), groups=384, bias=False)\n",
      "        (4): BatchNorm(axis=1, eps=1e-05, momentum=0.9, fix_gamma=False, use_global_stats=False, in_channels=None)\n",
      "        (5): ReLU6(\n",
      "        \n",
      "        )\n",
      "        (6): Conv2D(None -> 64, kernel_size=(1, 1), stride=(1, 1), bias=False)\n",
      "        (7): BatchNorm(axis=1, eps=1e-05, momentum=0.9, fix_gamma=False, use_global_stats=False, in_channels=None)\n",
      "      )\n",
      "    )\n",
      "    (12): LinearBottleneck(\n",
      "      (out): HybridSequential(\n",
      "        (0): Conv2D(None -> 384, kernel_size=(1, 1), stride=(1, 1), bias=False)\n",
      "        (1): BatchNorm(axis=1, eps=1e-05, momentum=0.9, fix_gamma=False, use_global_stats=False, in_channels=None)\n",
      "        (2): ReLU6(\n",
      "        \n",
      "        )\n",
      "        (3): Conv2D(None -> 384, kernel_size=(3, 3), stride=(1, 1), padding=(1, 1), groups=384, bias=False)\n",
      "        (4): BatchNorm(axis=1, eps=1e-05, momentum=0.9, fix_gamma=False, use_global_stats=False, in_channels=None)\n",
      "        (5): ReLU6(\n",
      "        \n",
      "        )\n",
      "        (6): Conv2D(None -> 64, kernel_size=(1, 1), stride=(1, 1), bias=False)\n",
      "        (7): BatchNorm(axis=1, eps=1e-05, momentum=0.9, fix_gamma=False, use_global_stats=False, in_channels=None)\n",
      "      )\n",
      "    )\n",
      "    (13): LinearBottleneck(\n",
      "      (out): HybridSequential(\n",
      "        (0): Conv2D(None -> 384, kernel_size=(1, 1), stride=(1, 1), bias=False)\n",
      "        (1): BatchNorm(axis=1, eps=1e-05, momentum=0.9, fix_gamma=False, use_global_stats=False, in_channels=None)\n",
      "        (2): ReLU6(\n",
      "        \n",
      "        )\n",
      "        (3): Conv2D(None -> 384, kernel_size=(3, 3), stride=(1, 1), padding=(1, 1), groups=384, bias=False)\n",
      "        (4): BatchNorm(axis=1, eps=1e-05, momentum=0.9, fix_gamma=False, use_global_stats=False, in_channels=None)\n",
      "        (5): ReLU6(\n",
      "        \n",
      "        )\n",
      "        (6): Conv2D(None -> 96, kernel_size=(1, 1), stride=(1, 1), bias=False)\n",
      "        (7): BatchNorm(axis=1, eps=1e-05, momentum=0.9, fix_gamma=False, use_global_stats=False, in_channels=None)\n",
      "      )\n",
      "    )\n",
      "    (14): LinearBottleneck(\n",
      "      (out): HybridSequential(\n",
      "        (0): Conv2D(None -> 576, kernel_size=(1, 1), stride=(1, 1), bias=False)\n",
      "        (1): BatchNorm(axis=1, eps=1e-05, momentum=0.9, fix_gamma=False, use_global_stats=False, in_channels=None)\n",
      "        (2): ReLU6(\n",
      "        \n",
      "        )\n",
      "        (3): Conv2D(None -> 576, kernel_size=(3, 3), stride=(1, 1), padding=(1, 1), groups=576, bias=False)\n",
      "        (4): BatchNorm(axis=1, eps=1e-05, momentum=0.9, fix_gamma=False, use_global_stats=False, in_channels=None)\n",
      "        (5): ReLU6(\n",
      "        \n",
      "        )\n",
      "        (6): Conv2D(None -> 96, kernel_size=(1, 1), stride=(1, 1), bias=False)\n",
      "        (7): BatchNorm(axis=1, eps=1e-05, momentum=0.9, fix_gamma=False, use_global_stats=False, in_channels=None)\n",
      "      )\n",
      "    )\n",
      "    (15): LinearBottleneck(\n",
      "      (out): HybridSequential(\n",
      "        (0): Conv2D(None -> 576, kernel_size=(1, 1), stride=(1, 1), bias=False)\n",
      "        (1): BatchNorm(axis=1, eps=1e-05, momentum=0.9, fix_gamma=False, use_global_stats=False, in_channels=None)\n",
      "        (2): ReLU6(\n",
      "        \n",
      "        )\n",
      "        (3): Conv2D(None -> 576, kernel_size=(3, 3), stride=(1, 1), padding=(1, 1), groups=576, bias=False)\n",
      "        (4): BatchNorm(axis=1, eps=1e-05, momentum=0.9, fix_gamma=False, use_global_stats=False, in_channels=None)\n",
      "        (5): ReLU6(\n",
      "        \n",
      "        )\n",
      "        (6): Conv2D(None -> 96, kernel_size=(1, 1), stride=(1, 1), bias=False)\n",
      "        (7): BatchNorm(axis=1, eps=1e-05, momentum=0.9, fix_gamma=False, use_global_stats=False, in_channels=None)\n",
      "      )\n",
      "    )\n",
      "    (16): LinearBottleneck(\n",
      "      (out): HybridSequential(\n",
      "        (0): Conv2D(None -> 576, kernel_size=(1, 1), stride=(1, 1), bias=False)\n",
      "        (1): BatchNorm(axis=1, eps=1e-05, momentum=0.9, fix_gamma=False, use_global_stats=False, in_channels=None)\n",
      "        (2): ReLU6(\n",
      "        \n",
      "        )\n",
      "        (3): Conv2D(None -> 576, kernel_size=(3, 3), stride=(2, 2), padding=(1, 1), groups=576, bias=False)\n",
      "        (4): BatchNorm(axis=1, eps=1e-05, momentum=0.9, fix_gamma=False, use_global_stats=False, in_channels=None)\n",
      "        (5): ReLU6(\n",
      "        \n",
      "        )\n",
      "        (6): Conv2D(None -> 160, kernel_size=(1, 1), stride=(1, 1), bias=False)\n",
      "        (7): BatchNorm(axis=1, eps=1e-05, momentum=0.9, fix_gamma=False, use_global_stats=False, in_channels=None)\n",
      "      )\n",
      "    )\n",
      "    (17): LinearBottleneck(\n",
      "      (out): HybridSequential(\n",
      "        (0): Conv2D(None -> 960, kernel_size=(1, 1), stride=(1, 1), bias=False)\n",
      "        (1): BatchNorm(axis=1, eps=1e-05, momentum=0.9, fix_gamma=False, use_global_stats=False, in_channels=None)\n",
      "        (2): ReLU6(\n",
      "        \n",
      "        )\n",
      "        (3): Conv2D(None -> 960, kernel_size=(3, 3), stride=(1, 1), padding=(1, 1), groups=960, bias=False)\n",
      "        (4): BatchNorm(axis=1, eps=1e-05, momentum=0.9, fix_gamma=False, use_global_stats=False, in_channels=None)\n",
      "        (5): ReLU6(\n",
      "        \n",
      "        )\n",
      "        (6): Conv2D(None -> 160, kernel_size=(1, 1), stride=(1, 1), bias=False)\n",
      "        (7): BatchNorm(axis=1, eps=1e-05, momentum=0.9, fix_gamma=False, use_global_stats=False, in_channels=None)\n",
      "      )\n",
      "    )\n",
      "    (18): LinearBottleneck(\n",
      "      (out): HybridSequential(\n",
      "        (0): Conv2D(None -> 960, kernel_size=(1, 1), stride=(1, 1), bias=False)\n",
      "        (1): BatchNorm(axis=1, eps=1e-05, momentum=0.9, fix_gamma=False, use_global_stats=False, in_channels=None)\n",
      "        (2): ReLU6(\n",
      "        \n",
      "        )\n",
      "        (3): Conv2D(None -> 960, kernel_size=(3, 3), stride=(1, 1), padding=(1, 1), groups=960, bias=False)\n",
      "        (4): BatchNorm(axis=1, eps=1e-05, momentum=0.9, fix_gamma=False, use_global_stats=False, in_channels=None)\n",
      "        (5): ReLU6(\n",
      "        \n",
      "        )\n",
      "        (6): Conv2D(None -> 160, kernel_size=(1, 1), stride=(1, 1), bias=False)\n",
      "        (7): BatchNorm(axis=1, eps=1e-05, momentum=0.9, fix_gamma=False, use_global_stats=False, in_channels=None)\n",
      "      )\n",
      "    )\n",
      "    (19): LinearBottleneck(\n",
      "      (out): HybridSequential(\n",
      "        (0): Conv2D(None -> 960, kernel_size=(1, 1), stride=(1, 1), bias=False)\n",
      "        (1): BatchNorm(axis=1, eps=1e-05, momentum=0.9, fix_gamma=False, use_global_stats=False, in_channels=None)\n",
      "        (2): ReLU6(\n",
      "        \n",
      "        )\n",
      "        (3): Conv2D(None -> 960, kernel_size=(3, 3), stride=(1, 1), padding=(1, 1), groups=960, bias=False)\n",
      "        (4): BatchNorm(axis=1, eps=1e-05, momentum=0.9, fix_gamma=False, use_global_stats=False, in_channels=None)\n",
      "        (5): ReLU6(\n",
      "        \n",
      "        )\n",
      "        (6): Conv2D(None -> 320, kernel_size=(1, 1), stride=(1, 1), bias=False)\n",
      "        (7): BatchNorm(axis=1, eps=1e-05, momentum=0.9, fix_gamma=False, use_global_stats=False, in_channels=None)\n",
      "      )\n",
      "    )\n",
      "    (20): Conv2D(None -> 1280, kernel_size=(1, 1), stride=(1, 1), bias=False)\n",
      "    (21): BatchNorm(axis=1, eps=1e-05, momentum=0.9, fix_gamma=False, use_global_stats=False, in_channels=None)\n",
      "    (22): ReLU6(\n",
      "    \n",
      "    )\n",
      "    (23): GlobalAvgPool2D(size=(1, 1), stride=(1, 1), padding=(0, 0), ceil_mode=True, global_pool=True, pool_type=avg, layout=NCHW)\n",
      "  )\n",
      "  (output): HybridSequential(\n",
      "    (0): Conv2D(None -> 4, kernel_size=(1, 1), stride=(1, 1), bias=False)\n",
      "    (1): Flatten\n",
      "  )\n",
      "), 'optimizer': <__main__.NAG object at 0x7f099ffcc950>, 'loss': SoftmaxCrossEntropyLoss(batch_axis=0, w=None), 'metric': 'accuracy', 'num_gpus': 1, 'split_ratio': 0.8, 'batch_size': 64, 'input_size': 224, 'epochs': 2, 'final_fit_epochs': 2, 'verbose': True, 'num_workers': 4, 'hybridize': True, 'final_fit': False, 'tricks': Dict{'last_gamma': False, 'use_pretrained': True, 'use_se': False, 'mixup': False, 'mixup_alpha': 0.2, 'mixup_off_epoch': 0, 'label_smoothing': False, 'no_wd': False, 'teacher_name': None, 'temperature': 20.0, 'hard_weight': 0.5, 'batch_norm': False, 'use_gn': False}, 'lr_config': Dict{'lr_mode': 'cosine', 'lr_decay': 0.1, 'lr_decay_period': 0, 'lr_decay_epoch': '40,80', 'warmup_lr': 0.0, 'warmup_epochs': 0}, 'task_id': 3}\n"
     ]
    },
    {
     "data": {
      "application/vnd.jupyter.widget-view+json": {
       "model_id": "d132ac8f1cb14949b1971582dda077b7",
       "version_major": 2,
       "version_minor": 0
      },
      "text/plain": [
       "VBox(children=(HBox(children=(IntProgress(value=0, max=2), HTML(value=''))), HTML(value='')))"
      ]
     },
     "metadata": {},
     "output_type": "display_data"
    },
    {
     "name": "stdout",
     "output_type": "stream",
     "text": [
      "\n"
     ]
    },
    {
     "name": "stderr",
     "output_type": "stream",
     "text": [
      "{'dataset': <autogluon.task.image_classification.dataset.NativeImageFolderDataset object at 0x7f099c0bfe50>, 'net': 'resnet18_v1b', 'optimizer': <__main__.NAG object at 0x7f099c0bf1d0>, 'loss': SoftmaxCrossEntropyLoss(batch_axis=0, w=None), 'metric': 'accuracy', 'num_gpus': 1, 'split_ratio': 0.8, 'batch_size': 64, 'input_size': 224, 'epochs': 2, 'final_fit_epochs': 2, 'verbose': True, 'num_workers': 4, 'hybridize': True, 'final_fit': True, 'tricks': Dict{'last_gamma': False, 'use_pretrained': True, 'use_se': False, 'mixup': False, 'mixup_alpha': 0.2, 'mixup_off_epoch': 0, 'label_smoothing': False, 'no_wd': False, 'teacher_name': None, 'temperature': 20.0, 'hard_weight': 0.5, 'batch_norm': False, 'use_gn': False}, 'lr_config': Dict{'lr_mode': 'cosine', 'lr_decay': 0.1, 'lr_decay_period': 0, 'lr_decay_epoch': '40,80', 'warmup_lr': 0.0, 'warmup_epochs': 0}, 'task_id': 4}\n"
     ]
    },
    {
     "data": {
      "application/vnd.jupyter.widget-view+json": {
       "model_id": "0950b57591e34d708f863f1318868d6a",
       "version_major": 2,
       "version_minor": 0
      },
      "text/plain": [
       "VBox(children=(HBox(children=(IntProgress(value=0, max=2), HTML(value=''))), HTML(value='')))"
      ]
     },
     "metadata": {},
     "output_type": "display_data"
    },
    {
     "name": "stdout",
     "output_type": "stream",
     "text": [
      "\n"
     ]
    },
    {
     "name": "stderr",
     "output_type": "stream",
     "text": [
      "Saving Training Curve in checkpoint/plot_training_curves.png\n"
     ]
    },
    {
     "data": {
      "image/png": "[encoded data removed]",
      "text/plain": [
       "<Figure size 432x288 with 1 Axes>"
      ]
     },
     "metadata": {
      "needs_background": "light"
     },
     "output_type": "display_data"
    },
    {
     "name": "stdout",
     "output_type": "stream",
     "text": [
      "Accuracy on Validation Data: 0.438\n"
     ]
    }
   ],
   "source": [
    "num_train_epochs = 2 # How many epochs to train each network. Small value used just for quick demo, you should increase it.\n",
    "num_hpo_trials = 4 # How many networks to train with different hyperparameters. Small value used just for quick demo, you should increase it.\n",
    "ngpus_per_trial = 1 # How many GPUs to use per training run. Set =0 if you don't have GPU but beware of slow run-times (otherwise make sure GPU-version of MXNet is installed).\n",
    "\n",
    "classifier = task.fit(dataset, net=net, optimizer=optimizer, verbose=True, \n",
    "                      search_strategy='skopt', search_options={'base_estimator': 'RF', 'acq_func': 'EI'},\n",
    "                      epochs=num_train_epochs, num_trials=num_hpo_trials, ngpus_per_trial=ngpus_per_trial)\n",
    "\n",
    "print('Accuracy on Validation Data: %.3f' % classifier.results['best_reward'])"
   ]
  },
  {
   "cell_type": "markdown",
   "metadata": {},
   "source": [
    "We again evaluate the resulting model on our (small) test dataset:"
   ]
  },
  {
   "cell_type": "code",
   "execution_count": 5,
   "metadata": {},
   "outputs": [
    {
     "data": {
      "application/vnd.jupyter.widget-view+json": {
       "model_id": "73370e6f876348169b004cdb76890ce0",
       "version_major": 2,
       "version_minor": 0
      },
      "text/plain": [
       "VBox(children=(HBox(children=(IntProgress(value=0, max=1), HTML(value=''))), HTML(value='')))"
      ]
     },
     "metadata": {},
     "output_type": "display_data"
    },
    {
     "name": "stdout",
     "output_type": "stream",
     "text": [
      "\n",
      "Accuracy on test data: 0.531\n"
     ]
    }
   ],
   "source": [
    "test_dataset = task.Dataset('data/test', train=False)\n",
    "\n",
    "test_acc = classifier.evaluate(test_dataset)\n",
    "print('Accuracy on test data: %.3f' % test_acc)"
   ]
  },
  {
   "cell_type": "markdown",
   "metadata": {},
   "source": [
    "### Hyperband\n",
    "\n",
    "AutoGluon can either schedule trials in serial order or with preemptive early termination. \n",
    "In standard Bayesian optimization, we wait until a training job completes (the network has completed all of its training epochs), see what the resulting validation performance of the fully-trained network is, and then use this information to decide which hyperparameter-values to try next. However, we can also measure the validation-performance of the network after each epoch *within* a training job. If a network displays poor performance in the first few epochs, this is likely not a promising hyperparameter-configuration to explore further, and thus the trial may be terminated early to free up compute resources to start training a different network.\n",
    "\n",
    "\n",
    "Here's an example using an early stopping scheduler that implements the [Hyperband search strategy](https://homes.cs.washington.edu/~jamieson/hyperband.html):"
   ]
  },
  {
   "cell_type": "code",
   "execution_count": 6,
   "metadata": {},
   "outputs": [
    {
     "name": "stderr",
     "output_type": "stream",
     "text": [
      "scheduler_options: Key 'reduction_factor': Imputing default value 3\n",
      "scheduler_options: Key 'brackets': Imputing default value 1\n",
      "scheduler_options: Key 'type': Imputing default value stopping\n",
      "scheduler_options: Key 'keep_size_ratios': Imputing default value False\n",
      "scheduler_options: Key 'maxt_pending': Imputing default value False\n",
      "scheduler_options: Key 'searcher_data': Imputing default value rungs\n",
      "scheduler_options: Key 'do_snapshots': Imputing default value False\n",
      "\n",
      "scheduler_options: Key 'training_history_callback_delta_secs': Imputing default value 60\n",
      "scheduler_options: Key 'delay_get_config': Imputing default value True\n",
      "\n",
      "Starting Experiments\n",
      "Num of Finished Tasks is 0\n",
      "Num of Pending Tasks is 16\n"
     ]
    },
    {
     "name": "stdout",
     "output_type": "stream",
     "text": [
      "scheduler: HyperbandScheduler(terminator: HyperbandStopping_Manager(reward_attr: classification_reward, time_attr: epoch, reduction_factor: 3, max_t: 10, brackets: [Bracket: Iter 9.000: None | Iter 3.000: None | Iter 1.000: None])\n"
     ]
    },
    {
     "data": {
      "application/vnd.jupyter.widget-view+json": {
       "model_id": "f631b105dd7f43dc8199351736d19d8c",
       "version_major": 2,
       "version_minor": 0
      },
      "text/plain": [
       "HBox(children=(FloatProgress(value=0.0, max=16.0), HTML(value='')))"
      ]
     },
     "metadata": {},
     "output_type": "display_data"
    },
    {
     "name": "stdout",
     "output_type": "stream",
     "text": [
      "\n",
      "\n"
     ]
    },
    {
     "name": "stderr",
     "output_type": "stream",
     "text": [
      "Saving Training Curve in checkpoint/plot_training_curves.png\n"
     ]
    },
    {
     "data": {
      "image/png": "[encoded data removed]",
      "text/plain": [
       "<Figure size 432x288 with 1 Axes>"
      ]
     },
     "metadata": {
      "needs_background": "light"
     },
     "output_type": "display_data"
    },
    {
     "name": "stdout",
     "output_type": "stream",
     "text": [
      "Accuracy on Validation Data: 0.825\n"
     ]
    }
   ],
   "source": [
    "num_train_epochs = 10 # How many epochs to train each network. Small value used just for quick demo, you should increase it.\n",
    "num_hpo_trials = 16 # How many networks to train with different hyperparameters. Small value used just for quick demo, you should increase it.\n",
    "ngpus_per_trial = 1 # How many GPUs to use per training run. Set =0 if you don't have GPU but beware of slow run-times (otherwise make sure GPU-version of MXNet is installed).\n",
    "\n",
    "classifier = task.fit(dataset, plot_results=True,\n",
    "                      search_strategy='hyperband', scheduler_options={'grace_period':1},\n",
    "                      net=net, optimizer=optimizer, lr_scheduler=ag.space.Categorical('poly', 'cosine'),\n",
    "                      epochs=num_train_epochs, num_trials=num_hpo_trials, ngpus_per_trial=ngpus_per_trial)\n",
    "\n",
    "print('Accuracy on Validation Data: %.3f' % classifier.results['best_reward'])"
   ]
  },
  {
   "cell_type": "markdown",
   "metadata": {},
   "source": [
    "You can see that AutoGluon early-terminated many training jobs whose performance in early epochs was significantly worse than in the same epochs of previously-completed training runs. [Hyperband](https://homes.cs.washington.edu/~jamieson/hyperband.html) is based on successive halving of randomly-sampled configurations, where we terminate the worst-performing 50% of the current training jobs every few epochs. However  this may be too aggressive; some good hyperparameter-configurations may just happen to exhibit poor performance at a certain training stage but would end up producing good performance at the end of training. To ensure such configurations have a chance of surviving, Hyperband runs successive-halving in numerous brackets where random networks in every bracket are trained for all epochs. Below we show what training-performance might look like over the course of 4 different Hyperband brackets (one per plot):   \n",
    "\n",
    "<img src=\"files/images/hyperband.png\" width=\"500\" height=\"400\">\n",
    "\n",
    "AutoGluon actually uses an [asychronous version of Hyperband](https://blog.ml.cmu.edu/2018/12/12/massively-parallel-hyperparameter-optimization/) that is slightly more complex. \n",
    "Finally, we evaluate the resulting model from our Hyperband-search on the test data:"
   ]
  },
  {
   "cell_type": "code",
   "execution_count": 7,
   "metadata": {},
   "outputs": [
    {
     "data": {
      "application/vnd.jupyter.widget-view+json": {
       "model_id": "ec6d26dbdd5c457896abaef9b78a9151",
       "version_major": 2,
       "version_minor": 0
      },
      "text/plain": [
       "VBox(children=(HBox(children=(IntProgress(value=0, max=1), HTML(value=''))), HTML(value='')))"
      ]
     },
     "metadata": {},
     "output_type": "display_data"
    },
    {
     "name": "stdout",
     "output_type": "stream",
     "text": [
      "\n",
      "Accuracy on test data: 0.891\n"
     ]
    }
   ],
   "source": [
    "test_acc = classifier.evaluate(test_dataset)\n",
    "print('Accuracy on test data: %.3f' % test_acc)"
   ]
  },
  {
   "cell_type": "markdown",
   "metadata": {},
   "source": [
    "You can try playing with AutoGluon's various [searchers](https://autogluon.mxnet.io/api/autogluon.searcher.html) & [schedulers](https://autogluon.mxnet.io/api/autogluon.scheduler.html) to see how they affect the resulting image-classification accuracy (make sure to increase `num_train_epochs`, `num_hpo_trials` to get a more realistic picture). \n",
    "For large-scale HPO, you can also use AutoGluon to easily distribute these HPO jobs over multiple machines, as demonstrated in this [Distributed Search tutorial](https://autogluon.mxnet.io/tutorials/course/distributed.html). "
   ]
  },
  {
   "cell_type": "markdown",
   "metadata": {},
   "source": [
    "## References\n",
    "\n",
    "[**AutoGluon Documentation** (autogluon.mxnet.io)](https://autogluon.mxnet.io/api/autogluon.task.html)\n",
    "\n",
    "Feurer M, Hutter F. [**Hyperparameter Optimization**](https://www.automl.org/wp-content/uploads/2019/05/AutoML_Book_Chapter1.pdf). Book chapter in *AUTOML: METHODS, SYSTEMS, CHALLENGES*, 2018.\n",
    "\n",
    "Agnihotri et al. [**Exploring Bayesian Optimization**](https://distill.pub/2020/bayesian-optimization/). *Distill*, \n",
    "2020.\n",
    "\n",
    "Shahriari et al. [**Taking the Human Out of the Loop: A Review of Bayesian Optimization**](https://www.cs.ox.ac.uk/people/nando.defreitas/publications/BayesOptLoop.pdf). *Proceedings of the IEEE*, 2015.\n",
    "\n",
    "Jamieson et al. [**Hyperband: A Novel Bandit-Based Approach to Hyperparameter Optimization**](https://homes.cs.washington.edu/~jamieson/hyperband.html). *Journal of Machine Learning Research*, 2018.\n",
    "\n",
    "Li et al. [**Massively Parallel Hyperparameter Optimization**](https://arxiv.org/abs/1810.05934). In: *MLSys*, 2020."
   ]
  }
 ],
 "metadata": {
  "kernelspec": {
   "display_name": "Python 3",
   "language": "python",
   "name": "python3"
  },
  "language_info": {
   "codemirror_mode": {
    "name": "ipython",
    "version": 3
   },
   "file_extension": ".py",
   "mimetype": "text/x-python",
   "name": "python",
   "nbconvert_exporter": "python",
   "pygments_lexer": "ipython3",
   "version": "3.7.5"
  },
  "widgets": {
   "application/vnd.jupyter.widget-state+json": {
    "state": {
     "0982f62e3b804c17b5d7e00256424583": {
      "model_module": "@jupyter-widgets/base",
      "model_module_version": "1.2.0",
      "model_name": "LayoutModel",
      "state": {}
     },
     "100874d357e042c5b51867c83704b727": {
      "model_module": "@jupyter-widgets/controls",
      "model_module_version": "1.5.0",
      "model_name": "DescriptionStyleModel",
      "state": {
       "description_width": ""
      }
     },
     "1177ea817a95431995cd4d75c02e3ded": {
      "model_module": "@jupyter-widgets/controls",
      "model_module_version": "1.5.0",
      "model_name": "DescriptionStyleModel",
      "state": {
       "description_width": ""
      }
     },
     "121741fb798246d4b526327ea488b022": {
      "model_module": "@jupyter-widgets/base",
      "model_module_version": "1.2.0",
      "model_name": "LayoutModel",
      "state": {}
     },
     "1505da151ead4085bbbf705d10848daa": {
      "model_module": "@jupyter-widgets/base",
      "model_module_version": "1.2.0",
      "model_name": "LayoutModel",
      "state": {}
     },
     "17d1be76ede841df85e10e06d95e3c22": {
      "model_module": "@jupyter-widgets/controls",
      "model_module_version": "1.5.0",
      "model_name": "HTMLModel",
      "state": {
       "layout": "IPY_MODEL_2b98d70a7bf044a4bca57c19b2ef984a",
       "style": "IPY_MODEL_1177ea817a95431995cd4d75c02e3ded"
      }
     },
     "1f51d77c1e3646e7993d91b84c2c537b": {
      "model_module": "@jupyter-widgets/controls",
      "model_module_version": "1.5.0",
      "model_name": "VBoxModel",
      "state": {
       "children": [
        "IPY_MODEL_8c302fb0abdf4e51b32ddfb37d5502c7",
        "IPY_MODEL_17d1be76ede841df85e10e06d95e3c22"
       ],
       "layout": "IPY_MODEL_d0b05d7f7bfa4e5fb6013a8f9b2a68a2"
      }
     },
     "1f88b426c78b480a8b5d44ce107791a2": {
      "model_module": "@jupyter-widgets/controls",
      "model_module_version": "1.5.0",
      "model_name": "IntProgressModel",
      "state": {
       "bar_style": "success",
       "description": "accuracy: 0.9375: 100%",
       "layout": "IPY_MODEL_f586be9e836348fb890cac4e388a9e17",
       "max": 1,
       "style": "IPY_MODEL_78150a836be94270a384aab49371b04b",
       "value": 1
      }
     },
     "252273961265411792197d38c6f97407": {
      "model_module": "@jupyter-widgets/base",
      "model_module_version": "1.2.0",
      "model_name": "LayoutModel",
      "state": {}
     },
     "27d129eb01de4de697dd78c0bb55175a": {
      "model_module": "@jupyter-widgets/controls",
      "model_module_version": "1.5.0",
      "model_name": "IntProgressModel",
      "state": {
       "bar_style": "success",
       "description": "accuracy: 0.953125: 100%",
       "layout": "IPY_MODEL_efe543f8e88f4022a2d232ba7a02d5d1",
       "max": 1,
       "style": "IPY_MODEL_bdf2570d34e6431ca29844331fa2b94f",
       "value": 1
      }
     },
     "2856731bc3eb4611a7f26878a7692a8b": {
      "model_module": "@jupyter-widgets/controls",
      "model_module_version": "1.5.0",
      "model_name": "IntProgressModel",
      "state": {
       "bar_style": "success",
       "description": "100%",
       "layout": "IPY_MODEL_e655a826b7fb4c08bf5c8a6c7716488e",
       "max": 16,
       "style": "IPY_MODEL_5ee1568d135643b3b0e9274ef13b33d1",
       "value": 16
      }
     },
     "2ae08a2cbeda4e20a191d96103824293": {
      "model_module": "@jupyter-widgets/base",
      "model_module_version": "1.2.0",
      "model_name": "LayoutModel",
      "state": {}
     },
     "2b98d70a7bf044a4bca57c19b2ef984a": {
      "model_module": "@jupyter-widgets/base",
      "model_module_version": "1.2.0",
      "model_name": "LayoutModel",
      "state": {}
     },
     "2eae6a1ee3a645e0b343c049110ba4f3": {
      "model_module": "@jupyter-widgets/controls",
      "model_module_version": "1.5.0",
      "model_name": "DescriptionStyleModel",
      "state": {
       "description_width": ""
      }
     },
     "31b2a6e102dc4140bd96f438334a0ea1": {
      "model_module": "@jupyter-widgets/controls",
      "model_module_version": "1.5.0",
      "model_name": "HBoxModel",
      "state": {
       "children": [
        "IPY_MODEL_27d129eb01de4de697dd78c0bb55175a",
        "IPY_MODEL_6b04a810e9d34faaa46a1d5bf5875d8a"
       ],
       "layout": "IPY_MODEL_b98ae88fb2ed4959820899e4602b43f6"
      }
     },
     "3358be381a7549a5a6a30f2909631f44": {
      "model_module": "@jupyter-widgets/base",
      "model_module_version": "1.2.0",
      "model_name": "LayoutModel",
      "state": {}
     },
     "36f44534cbc0438da077a6938d1b2ced": {
      "model_module": "@jupyter-widgets/controls",
      "model_module_version": "1.5.0",
      "model_name": "IntProgressModel",
      "state": {
       "bar_style": "success",
       "description": "100%",
       "layout": "IPY_MODEL_0982f62e3b804c17b5d7e00256424583",
       "max": 2,
       "style": "IPY_MODEL_caf73e848e8c459b8e4b0ad2b4d0e345",
       "value": 2
      }
     },
     "3b9732bb27b14e128c9312312f1f4a48": {
      "model_module": "@jupyter-widgets/base",
      "model_module_version": "1.2.0",
      "model_name": "LayoutModel",
      "state": {}
     },
     "42f1cac1905145b086b99aec1500ced9": {
      "model_module": "@jupyter-widgets/base",
      "model_module_version": "1.2.0",
      "model_name": "LayoutModel",
      "state": {}
     },
     "4394cb10c88b470189a17ee1849d2804": {
      "model_module": "@jupyter-widgets/controls",
      "model_module_version": "1.5.0",
      "model_name": "HTMLModel",
      "state": {
       "layout": "IPY_MODEL_92dde42283104ba8875feb49b65405f5",
       "style": "IPY_MODEL_cc91584c6d7e4d75ae156344b81fbf50",
       "value": " 1/1 [00:06&lt;00:00,  6.30s/it]"
      }
     },
     "48146fd39af240d1accfb8ca595b20a8": {
      "model_module": "@jupyter-widgets/controls",
      "model_module_version": "1.5.0",
      "model_name": "DescriptionStyleModel",
      "state": {
       "description_width": ""
      }
     },
     "48f75ecc31f8462ca4e711b8775ef446": {
      "model_module": "@jupyter-widgets/controls",
      "model_module_version": "1.5.0",
      "model_name": "DescriptionStyleModel",
      "state": {
       "description_width": ""
      }
     },
     "4b1e1dd73e9d49e9890c8523fde6b7b3": {
      "model_module": "@jupyter-widgets/controls",
      "model_module_version": "1.5.0",
      "model_name": "HTMLModel",
      "state": {
       "layout": "IPY_MODEL_60b38a806aeb49a4968bfc62853ad0b5",
       "style": "IPY_MODEL_48146fd39af240d1accfb8ca595b20a8",
       "value": " 2/2 [03:08&lt;00:00, 94.13s/it]"
      }
     },
     "4e4a7f9625a04f40802819b5464ffd62": {
      "model_module": "@jupyter-widgets/controls",
      "model_module_version": "1.5.0",
      "model_name": "HTMLModel",
      "state": {
       "layout": "IPY_MODEL_a07651634c8941189cfd35902258c8a6",
       "style": "IPY_MODEL_eb194c6fd8534dbd808a17ab4a3d24a5"
      }
     },
     "57fc909a20ab427f820a980e679bf6f0": {
      "model_module": "@jupyter-widgets/controls",
      "model_module_version": "1.5.0",
      "model_name": "HTMLModel",
      "state": {
       "layout": "IPY_MODEL_69ac9495e6c54d26b09fa41a2882d9de",
       "style": "IPY_MODEL_9f5e38a1f03d49bebe9cc22cd6142667"
      }
     },
     "5ee1568d135643b3b0e9274ef13b33d1": {
      "model_module": "@jupyter-widgets/controls",
      "model_module_version": "1.5.0",
      "model_name": "ProgressStyleModel",
      "state": {
       "description_width": "initial"
      }
     },
     "60b38a806aeb49a4968bfc62853ad0b5": {
      "model_module": "@jupyter-widgets/base",
      "model_module_version": "1.2.0",
      "model_name": "LayoutModel",
      "state": {}
     },
     "63321d057e774122ae6ae5e99f55a0f9": {
      "model_module": "@jupyter-widgets/base",
      "model_module_version": "1.2.0",
      "model_name": "LayoutModel",
      "state": {}
     },
     "633df7fdc3ed41869f7c1edc9e4004cb": {
      "model_module": "@jupyter-widgets/controls",
      "model_module_version": "1.5.0",
      "model_name": "HTMLModel",
      "state": {
       "layout": "IPY_MODEL_63321d057e774122ae6ae5e99f55a0f9",
       "style": "IPY_MODEL_100874d357e042c5b51867c83704b727",
       "value": " 2/2 [00:12&lt;00:00,  6.28s/it]"
      }
     },
     "69ac9495e6c54d26b09fa41a2882d9de": {
      "model_module": "@jupyter-widgets/base",
      "model_module_version": "1.2.0",
      "model_name": "LayoutModel",
      "state": {}
     },
     "6b04a810e9d34faaa46a1d5bf5875d8a": {
      "model_module": "@jupyter-widgets/controls",
      "model_module_version": "1.5.0",
      "model_name": "HTMLModel",
      "state": {
       "layout": "IPY_MODEL_8ee69313fabb4c5692825e9f45b76341",
       "style": "IPY_MODEL_99c95d598fb541fe98e7db9967552596",
       "value": " 1/1 [09:55&lt;00:00, 595.93s/it]"
      }
     },
     "6fcf8d85db8c46e989c1a2e55575edde": {
      "model_module": "@jupyter-widgets/controls",
      "model_module_version": "1.5.0",
      "model_name": "ProgressStyleModel",
      "state": {
       "description_width": "initial"
      }
     },
     "763e0e4ea0b048be998b439386c54cec": {
      "model_module": "@jupyter-widgets/controls",
      "model_module_version": "1.5.0",
      "model_name": "HBoxModel",
      "state": {
       "children": [
        "IPY_MODEL_2856731bc3eb4611a7f26878a7692a8b",
        "IPY_MODEL_d6bfff7369214641aa1675f87cf5d582"
       ],
       "layout": "IPY_MODEL_9eb22eae95bd4a6aaecbf93e8502cae7"
      }
     },
     "78150a836be94270a384aab49371b04b": {
      "model_module": "@jupyter-widgets/controls",
      "model_module_version": "1.5.0",
      "model_name": "ProgressStyleModel",
      "state": {
       "description_width": "initial"
      }
     },
     "78e775f4f6ae45a08ae23f4d26221362": {
      "model_module": "@jupyter-widgets/base",
      "model_module_version": "1.2.0",
      "model_name": "LayoutModel",
      "state": {}
     },
     "7b12843b2bf742809f03e2e3d641453f": {
      "model_module": "@jupyter-widgets/controls",
      "model_module_version": "1.5.0",
      "model_name": "HTMLModel",
      "state": {
       "layout": "IPY_MODEL_af72e6ad8c0a49f2912435f569531547",
       "style": "IPY_MODEL_96242e23a7544492b0d2e9ed9099b6e6",
       "value": " 1/1 [00:05&lt;00:00,  5.99s/it]"
      }
     },
     "7b831536a9f0412f9f83a9588307677b": {
      "model_module": "@jupyter-widgets/controls",
      "model_module_version": "1.5.0",
      "model_name": "HBoxModel",
      "state": {
       "children": [
        "IPY_MODEL_ddc3b2718447459db97facd28200544f",
        "IPY_MODEL_abadb2dce67f40daa63b275841b179af"
       ],
       "layout": "IPY_MODEL_b267da25ab5841ddb5fb49535a967bc5"
      }
     },
     "856e0780a1bb45e0a9355947f6084824": {
      "model_module": "@jupyter-widgets/controls",
      "model_module_version": "1.5.0",
      "model_name": "ProgressStyleModel",
      "state": {
       "description_width": "initial"
      }
     },
     "878d9ba4eec24048a78546f7c81741c9": {
      "model_module": "@jupyter-widgets/base",
      "model_module_version": "1.2.0",
      "model_name": "LayoutModel",
      "state": {}
     },
     "8791d2693b7a4fd78d05095dc5c58582": {
      "model_module": "@jupyter-widgets/controls",
      "model_module_version": "1.5.0",
      "model_name": "DescriptionStyleModel",
      "state": {
       "description_width": ""
      }
     },
     "8c302fb0abdf4e51b32ddfb37d5502c7": {
      "model_module": "@jupyter-widgets/controls",
      "model_module_version": "1.5.0",
      "model_name": "HBoxModel",
      "state": {
       "children": [
        "IPY_MODEL_1f88b426c78b480a8b5d44ce107791a2",
        "IPY_MODEL_4394cb10c88b470189a17ee1849d2804"
       ],
       "layout": "IPY_MODEL_1505da151ead4085bbbf705d10848daa"
      }
     },
     "8ee69313fabb4c5692825e9f45b76341": {
      "model_module": "@jupyter-widgets/base",
      "model_module_version": "1.2.0",
      "model_name": "LayoutModel",
      "state": {}
     },
     "8fd95eecc3034dc982a64c1a379405ca": {
      "model_module": "@jupyter-widgets/controls",
      "model_module_version": "1.5.0",
      "model_name": "ProgressStyleModel",
      "state": {
       "description_width": "initial"
      }
     },
     "92dde42283104ba8875feb49b65405f5": {
      "model_module": "@jupyter-widgets/base",
      "model_module_version": "1.2.0",
      "model_name": "LayoutModel",
      "state": {}
     },
     "96242e23a7544492b0d2e9ed9099b6e6": {
      "model_module": "@jupyter-widgets/controls",
      "model_module_version": "1.5.0",
      "model_name": "DescriptionStyleModel",
      "state": {
       "description_width": ""
      }
     },
     "99c95d598fb541fe98e7db9967552596": {
      "model_module": "@jupyter-widgets/controls",
      "model_module_version": "1.5.0",
      "model_name": "DescriptionStyleModel",
      "state": {
       "description_width": ""
      }
     },
     "9eb22eae95bd4a6aaecbf93e8502cae7": {
      "model_module": "@jupyter-widgets/base",
      "model_module_version": "1.2.0",
      "model_name": "LayoutModel",
      "state": {}
     },
     "9f5e38a1f03d49bebe9cc22cd6142667": {
      "model_module": "@jupyter-widgets/controls",
      "model_module_version": "1.5.0",
      "model_name": "DescriptionStyleModel",
      "state": {
       "description_width": ""
      }
     },
     "a07651634c8941189cfd35902258c8a6": {
      "model_module": "@jupyter-widgets/base",
      "model_module_version": "1.2.0",
      "model_name": "LayoutModel",
      "state": {}
     },
     "a2d43573f6644bccae17f93d9f2ca25e": {
      "model_module": "@jupyter-widgets/controls",
      "model_module_version": "1.5.0",
      "model_name": "HTMLModel",
      "state": {
       "layout": "IPY_MODEL_878d9ba4eec24048a78546f7c81741c9",
       "style": "IPY_MODEL_2eae6a1ee3a645e0b343c049110ba4f3"
      }
     },
     "a2eccfb447224ca0bb310fb6b19ba85a": {
      "model_module": "@jupyter-widgets/controls",
      "model_module_version": "1.5.0",
      "model_name": "HBoxModel",
      "state": {
       "children": [
        "IPY_MODEL_ec5088958a4d464389421e0bc66f286b",
        "IPY_MODEL_7b12843b2bf742809f03e2e3d641453f"
       ],
       "layout": "IPY_MODEL_da03a67e2f7d4365a5d8460a1fe7bac3"
      }
     },
     "abadb2dce67f40daa63b275841b179af": {
      "model_module": "@jupyter-widgets/controls",
      "model_module_version": "1.5.0",
      "model_name": "HTMLModel",
      "state": {
       "layout": "IPY_MODEL_fb306bd8776f459b8f32af1e73a0405a",
       "style": "IPY_MODEL_48f75ecc31f8462ca4e711b8775ef446",
       "value": " 16/16 [00:43&lt;00:00,  2.73s/it]"
      }
     },
     "ac4a02c7fd39421f8d64a1f8f3f60737": {
      "model_module": "@jupyter-widgets/base",
      "model_module_version": "1.2.0",
      "model_name": "LayoutModel",
      "state": {}
     },
     "af72e6ad8c0a49f2912435f569531547": {
      "model_module": "@jupyter-widgets/base",
      "model_module_version": "1.2.0",
      "model_name": "LayoutModel",
      "state": {}
     },
     "b267da25ab5841ddb5fb49535a967bc5": {
      "model_module": "@jupyter-widgets/base",
      "model_module_version": "1.2.0",
      "model_name": "LayoutModel",
      "state": {}
     },
     "b5ca196fe0a14af99966fc60ca78fc6b": {
      "model_module": "@jupyter-widgets/controls",
      "model_module_version": "1.5.0",
      "model_name": "IntProgressModel",
      "state": {
       "bar_style": "success",
       "description": "accuracy: 0.890625: 100%",
       "layout": "IPY_MODEL_b63798a78cd948a5ab085ded25d747a3",
       "max": 1,
       "style": "IPY_MODEL_6fcf8d85db8c46e989c1a2e55575edde",
       "value": 1
      }
     },
     "b63798a78cd948a5ab085ded25d747a3": {
      "model_module": "@jupyter-widgets/base",
      "model_module_version": "1.2.0",
      "model_name": "LayoutModel",
      "state": {}
     },
     "b8bf577b1e33455cab4e48e7aa6bd18d": {
      "model_module": "@jupyter-widgets/controls",
      "model_module_version": "1.5.0",
      "model_name": "HBoxModel",
      "state": {
       "children": [
        "IPY_MODEL_d80e318c5197499f8a65f4dc8ae88477",
        "IPY_MODEL_4b1e1dd73e9d49e9890c8523fde6b7b3"
       ],
       "layout": "IPY_MODEL_3358be381a7549a5a6a30f2909631f44"
      }
     },
     "b98ae88fb2ed4959820899e4602b43f6": {
      "model_module": "@jupyter-widgets/base",
      "model_module_version": "1.2.0",
      "model_name": "LayoutModel",
      "state": {}
     },
     "bdf2570d34e6431ca29844331fa2b94f": {
      "model_module": "@jupyter-widgets/controls",
      "model_module_version": "1.5.0",
      "model_name": "ProgressStyleModel",
      "state": {
       "description_width": "initial"
      }
     },
     "c5f998bd592848d6a34210e43242c2d2": {
      "model_module": "@jupyter-widgets/controls",
      "model_module_version": "1.5.0",
      "model_name": "HTMLModel",
      "state": {
       "layout": "IPY_MODEL_3b9732bb27b14e128c9312312f1f4a48",
       "style": "IPY_MODEL_8791d2693b7a4fd78d05095dc5c58582",
       "value": " 1/1 [00:06&lt;00:00,  6.52s/it]"
      }
     },
     "c620f07561c2403ea6ab74be440e9697": {
      "model_module": "@jupyter-widgets/controls",
      "model_module_version": "1.5.0",
      "model_name": "ProgressStyleModel",
      "state": {
       "description_width": "initial"
      }
     },
     "c778782ad4de4ddb88c2f921b21f9d30": {
      "model_module": "@jupyter-widgets/base",
      "model_module_version": "1.2.0",
      "model_name": "LayoutModel",
      "state": {}
     },
     "caf73e848e8c459b8e4b0ad2b4d0e345": {
      "model_module": "@jupyter-widgets/controls",
      "model_module_version": "1.5.0",
      "model_name": "ProgressStyleModel",
      "state": {
       "description_width": "initial"
      }
     },
     "cc91584c6d7e4d75ae156344b81fbf50": {
      "model_module": "@jupyter-widgets/controls",
      "model_module_version": "1.5.0",
      "model_name": "DescriptionStyleModel",
      "state": {
       "description_width": ""
      }
     },
     "cd2851c6d417407bbe69c19a2cf14c74": {
      "model_module": "@jupyter-widgets/controls",
      "model_module_version": "1.5.0",
      "model_name": "VBoxModel",
      "state": {
       "children": [
        "IPY_MODEL_a2eccfb447224ca0bb310fb6b19ba85a",
        "IPY_MODEL_a2d43573f6644bccae17f93d9f2ca25e"
       ],
       "layout": "IPY_MODEL_ac4a02c7fd39421f8d64a1f8f3f60737"
      }
     },
     "d0b05d7f7bfa4e5fb6013a8f9b2a68a2": {
      "model_module": "@jupyter-widgets/base",
      "model_module_version": "1.2.0",
      "model_name": "LayoutModel",
      "state": {}
     },
     "d4bc994409ef49b98ca012846f28dd78": {
      "model_module": "@jupyter-widgets/controls",
      "model_module_version": "1.5.0",
      "model_name": "HBoxModel",
      "state": {
       "children": [
        "IPY_MODEL_36f44534cbc0438da077a6938d1b2ced",
        "IPY_MODEL_633df7fdc3ed41869f7c1edc9e4004cb"
       ],
       "layout": "IPY_MODEL_252273961265411792197d38c6f97407"
      }
     },
     "d6bfff7369214641aa1675f87cf5d582": {
      "model_module": "@jupyter-widgets/controls",
      "model_module_version": "1.5.0",
      "model_name": "HTMLModel",
      "state": {
       "layout": "IPY_MODEL_ecf0026e5155445991c02373a5681b55",
       "style": "IPY_MODEL_d7a16264121f462ab95155910e692bc9",
       "value": " 16/16 [09:49&lt;00:00, 36.87s/it]"
      }
     },
     "d7a16264121f462ab95155910e692bc9": {
      "model_module": "@jupyter-widgets/controls",
      "model_module_version": "1.5.0",
      "model_name": "DescriptionStyleModel",
      "state": {
       "description_width": ""
      }
     },
     "d80e318c5197499f8a65f4dc8ae88477": {
      "model_module": "@jupyter-widgets/controls",
      "model_module_version": "1.5.0",
      "model_name": "IntProgressModel",
      "state": {
       "bar_style": "success",
       "description": "100%",
       "layout": "IPY_MODEL_da403b31335640d1914c57c709ee0cbc",
       "max": 2,
       "style": "IPY_MODEL_856e0780a1bb45e0a9355947f6084824",
       "value": 2
      }
     },
     "d905464b4da24e35bfedae42c3eef534": {
      "model_module": "@jupyter-widgets/controls",
      "model_module_version": "1.5.0",
      "model_name": "HBoxModel",
      "state": {
       "children": [
        "IPY_MODEL_b5ca196fe0a14af99966fc60ca78fc6b",
        "IPY_MODEL_c5f998bd592848d6a34210e43242c2d2"
       ],
       "layout": "IPY_MODEL_121741fb798246d4b526327ea488b022"
      }
     },
     "da03a67e2f7d4365a5d8460a1fe7bac3": {
      "model_module": "@jupyter-widgets/base",
      "model_module_version": "1.2.0",
      "model_name": "LayoutModel",
      "state": {}
     },
     "da403b31335640d1914c57c709ee0cbc": {
      "model_module": "@jupyter-widgets/base",
      "model_module_version": "1.2.0",
      "model_name": "LayoutModel",
      "state": {}
     },
     "ddc3b2718447459db97facd28200544f": {
      "model_module": "@jupyter-widgets/controls",
      "model_module_version": "1.5.0",
      "model_name": "IntProgressModel",
      "state": {
       "bar_style": "success",
       "description": "100%",
       "layout": "IPY_MODEL_78e775f4f6ae45a08ae23f4d26221362",
       "max": 16,
       "style": "IPY_MODEL_c620f07561c2403ea6ab74be440e9697",
       "value": 16
      }
     },
     "e13fdd2c2801493fba598838e7346d69": {
      "model_module": "@jupyter-widgets/controls",
      "model_module_version": "1.5.0",
      "model_name": "VBoxModel",
      "state": {
       "children": [
        "IPY_MODEL_31b2a6e102dc4140bd96f438334a0ea1",
        "IPY_MODEL_57fc909a20ab427f820a980e679bf6f0"
       ],
       "layout": "IPY_MODEL_42f1cac1905145b086b99aec1500ced9"
      }
     },
     "e655a826b7fb4c08bf5c8a6c7716488e": {
      "model_module": "@jupyter-widgets/base",
      "model_module_version": "1.2.0",
      "model_name": "LayoutModel",
      "state": {}
     },
     "eb194c6fd8534dbd808a17ab4a3d24a5": {
      "model_module": "@jupyter-widgets/controls",
      "model_module_version": "1.5.0",
      "model_name": "DescriptionStyleModel",
      "state": {
       "description_width": ""
      }
     },
     "ec5088958a4d464389421e0bc66f286b": {
      "model_module": "@jupyter-widgets/controls",
      "model_module_version": "1.5.0",
      "model_name": "IntProgressModel",
      "state": {
       "bar_style": "success",
       "description": "accuracy: 0.890625: 100%",
       "layout": "IPY_MODEL_c778782ad4de4ddb88c2f921b21f9d30",
       "max": 1,
       "style": "IPY_MODEL_8fd95eecc3034dc982a64c1a379405ca",
       "value": 1
      }
     },
     "ecf0026e5155445991c02373a5681b55": {
      "model_module": "@jupyter-widgets/base",
      "model_module_version": "1.2.0",
      "model_name": "LayoutModel",
      "state": {}
     },
     "efe543f8e88f4022a2d232ba7a02d5d1": {
      "model_module": "@jupyter-widgets/base",
      "model_module_version": "1.2.0",
      "model_name": "LayoutModel",
      "state": {}
     },
     "f586be9e836348fb890cac4e388a9e17": {
      "model_module": "@jupyter-widgets/base",
      "model_module_version": "1.2.0",
      "model_name": "LayoutModel",
      "state": {}
     },
     "fb306bd8776f459b8f32af1e73a0405a": {
      "model_module": "@jupyter-widgets/base",
      "model_module_version": "1.2.0",
      "model_name": "LayoutModel",
      "state": {}
     },
     "fd631ff022224ddba985e7fd3e3436d2": {
      "model_module": "@jupyter-widgets/controls",
      "model_module_version": "1.5.0",
      "model_name": "VBoxModel",
      "state": {
       "children": [
        "IPY_MODEL_d905464b4da24e35bfedae42c3eef534",
        "IPY_MODEL_4e4a7f9625a04f40802819b5464ffd62"
       ],
       "layout": "IPY_MODEL_2ae08a2cbeda4e20a191d96103824293"
      }
     }
    },
    "version_major": 2,
    "version_minor": 0
   }
  }
 },
 "nbformat": 4,
 "nbformat_minor": 2
}
