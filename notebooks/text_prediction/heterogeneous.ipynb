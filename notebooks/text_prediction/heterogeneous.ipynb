{
 "cells": [
  {
   "cell_type": "markdown",
   "metadata": {},
   "source": [
    "# Text Prediction - Mixed Data Type"
   ]
  },
  {
   "cell_type": "markdown",
   "metadata": {},
   "source": [
    "In the real-world applications, text data are usually mixed with other common data types like numerical data and categorical data. Here, the `TextPrediction` task in AutoGluon handles the mix of multiple feature types, including text, categorical, and numerical. Next, we will use the Semantic Textual Segmentation dataset that we have used to illustrate this functionality"
   ]
  },
  {
   "cell_type": "code",
   "execution_count": 1,
   "metadata": {},
   "outputs": [],
   "source": [
    "import numpy as np\n",
    "import warnings\n",
    "warnings.filterwarnings('ignore')\n",
    "np.random.seed(123)"
   ]
  },
  {
   "cell_type": "code",
   "execution_count": 2,
   "metadata": {},
   "outputs": [
    {
     "name": "stderr",
     "output_type": "stream",
     "text": [
      "Loaded data from: https://autogluon-text.s3-accelerate.amazonaws.com/glue/sts/train.parquet | Columns = 4 / 4 | Rows = 5749 -> 5749\n",
      "Loaded data from: https://autogluon-text.s3-accelerate.amazonaws.com/glue/sts/dev.parquet | Columns = 4 / 4 | Rows = 1500 -> 1500\n"
     ]
    },
    {
     "data": {
      "text/html": [
       "<div>\n",
       "<style scoped>\n",
       "    .dataframe tbody tr th:only-of-type {\n",
       "        vertical-align: middle;\n",
       "    }\n",
       "\n",
       "    .dataframe tbody tr th {\n",
       "        vertical-align: top;\n",
       "    }\n",
       "\n",
       "    .dataframe thead th {\n",
       "        text-align: right;\n",
       "    }\n",
       "</style>\n",
       "<table border=\"1\" class=\"dataframe\">\n",
       "  <thead>\n",
       "    <tr style=\"text-align: right;\">\n",
       "      <th></th>\n",
       "      <th>sentence1</th>\n",
       "      <th>sentence2</th>\n",
       "      <th>genre</th>\n",
       "      <th>score</th>\n",
       "    </tr>\n",
       "  </thead>\n",
       "  <tbody>\n",
       "    <tr>\n",
       "      <th>0</th>\n",
       "      <td>A plane is taking off.</td>\n",
       "      <td>An air plane is taking off.</td>\n",
       "      <td>main-captions</td>\n",
       "      <td>5.00</td>\n",
       "    </tr>\n",
       "    <tr>\n",
       "      <th>1</th>\n",
       "      <td>A man is playing a large flute.</td>\n",
       "      <td>A man is playing a flute.</td>\n",
       "      <td>main-captions</td>\n",
       "      <td>3.80</td>\n",
       "    </tr>\n",
       "    <tr>\n",
       "      <th>2</th>\n",
       "      <td>A man is spreading shreded cheese on a pizza.</td>\n",
       "      <td>A man is spreading shredded cheese on an uncoo...</td>\n",
       "      <td>main-captions</td>\n",
       "      <td>3.80</td>\n",
       "    </tr>\n",
       "    <tr>\n",
       "      <th>3</th>\n",
       "      <td>Three men are playing chess.</td>\n",
       "      <td>Two men are playing chess.</td>\n",
       "      <td>main-captions</td>\n",
       "      <td>2.60</td>\n",
       "    </tr>\n",
       "    <tr>\n",
       "      <th>4</th>\n",
       "      <td>A man is playing the cello.</td>\n",
       "      <td>A man seated is playing the cello.</td>\n",
       "      <td>main-captions</td>\n",
       "      <td>4.25</td>\n",
       "    </tr>\n",
       "    <tr>\n",
       "      <th>5</th>\n",
       "      <td>Some men are fighting.</td>\n",
       "      <td>Two men are fighting.</td>\n",
       "      <td>main-captions</td>\n",
       "      <td>4.25</td>\n",
       "    </tr>\n",
       "    <tr>\n",
       "      <th>6</th>\n",
       "      <td>A man is smoking.</td>\n",
       "      <td>A man is skating.</td>\n",
       "      <td>main-captions</td>\n",
       "      <td>0.50</td>\n",
       "    </tr>\n",
       "    <tr>\n",
       "      <th>7</th>\n",
       "      <td>The man is playing the piano.</td>\n",
       "      <td>The man is playing the guitar.</td>\n",
       "      <td>main-captions</td>\n",
       "      <td>1.60</td>\n",
       "    </tr>\n",
       "    <tr>\n",
       "      <th>8</th>\n",
       "      <td>A man is playing on a guitar and singing.</td>\n",
       "      <td>A woman is playing an acoustic guitar and sing...</td>\n",
       "      <td>main-captions</td>\n",
       "      <td>2.20</td>\n",
       "    </tr>\n",
       "    <tr>\n",
       "      <th>9</th>\n",
       "      <td>A person is throwing a cat on to the ceiling.</td>\n",
       "      <td>A person throws a cat on the ceiling.</td>\n",
       "      <td>main-captions</td>\n",
       "      <td>5.00</td>\n",
       "    </tr>\n",
       "  </tbody>\n",
       "</table>\n",
       "</div>"
      ],
      "text/plain": [
       "                                       sentence1  \\\n",
       "0                         A plane is taking off.   \n",
       "1                A man is playing a large flute.   \n",
       "2  A man is spreading shreded cheese on a pizza.   \n",
       "3                   Three men are playing chess.   \n",
       "4                    A man is playing the cello.   \n",
       "5                         Some men are fighting.   \n",
       "6                              A man is smoking.   \n",
       "7                  The man is playing the piano.   \n",
       "8      A man is playing on a guitar and singing.   \n",
       "9  A person is throwing a cat on to the ceiling.   \n",
       "\n",
       "                                           sentence2          genre  score  \n",
       "0                        An air plane is taking off.  main-captions   5.00  \n",
       "1                          A man is playing a flute.  main-captions   3.80  \n",
       "2  A man is spreading shredded cheese on an uncoo...  main-captions   3.80  \n",
       "3                         Two men are playing chess.  main-captions   2.60  \n",
       "4                 A man seated is playing the cello.  main-captions   4.25  \n",
       "5                              Two men are fighting.  main-captions   4.25  \n",
       "6                                  A man is skating.  main-captions   0.50  \n",
       "7                     The man is playing the guitar.  main-captions   1.60  \n",
       "8  A woman is playing an acoustic guitar and sing...  main-captions   2.20  \n",
       "9              A person throws a cat on the ceiling.  main-captions   5.00  "
      ]
     },
     "execution_count": 2,
     "metadata": {},
     "output_type": "execute_result"
    }
   ],
   "source": [
    "from autogluon.utils.tabular.utils.loaders import load_pd\n",
    "\n",
    "train_data = load_pd.load('https://autogluon-text.s3-accelerate.amazonaws.com/glue/sts/train.parquet')\n",
    "dev_data = load_pd.load('https://autogluon-text.s3-accelerate.amazonaws.com/glue/sts/dev.parquet')\n",
    "train_data.head(10)"
   ]
  },
  {
   "cell_type": "markdown",
   "metadata": {},
   "source": [
    "We can see that the STS dataset contains two text fields: `sentence1` and `sentence2`, one categorical field: `genre`, and one numerical field `score`. We try to predict the score with `sentence1` + `sentence2` + `genre`."
   ]
  },
  {
   "cell_type": "code",
   "execution_count": 3,
   "metadata": {},
   "outputs": [
    {
     "name": "stderr",
     "output_type": "stream",
     "text": [
      "2020-08-02 09:40:23,154 - root - INFO - All Logs will be saved to ./ag_sts_mixed_score/ag_text_prediction.log\n",
      "2020-08-02 09:40:23,176 - root - INFO - Train Dataset:\n",
      "2020-08-02 09:40:23,176 - root - INFO - Columns:\n",
      "\n",
      "- Text(\n",
      "   name=\"sentence1\"\n",
      "   #total/missing=4886/0\n",
      "   length, min/avg/max=16/57.49/340\n",
      ")\n",
      "- Text(\n",
      "   name=\"sentence2\"\n",
      "   #total/missing=4886/0\n",
      "   length, min/avg/max=15/57.31/311\n",
      ")\n",
      "- Categorical(\n",
      "   name=\"genre\"\n",
      "   #total/missing=4886/0\n",
      "   num_class (total/non_special)=4/3\n",
      "   categories=['main-captions', 'main-forums', 'main-news']\n",
      "   freq=[1693, 378, 2815]\n",
      ")\n",
      "- Numerical(\n",
      "   name=\"score\"\n",
      "   #total/missing=4886/0\n",
      "   shape=()\n",
      ")\n",
      "\n",
      "\n",
      "2020-08-02 09:40:23,177 - root - INFO - Tuning Dataset:\n",
      "2020-08-02 09:40:23,177 - root - INFO - Columns:\n",
      "\n",
      "- Text(\n",
      "   name=\"sentence1\"\n",
      "   #total/missing=863/0\n",
      "   length, min/avg/max=16/58.96/367\n",
      ")\n",
      "- Text(\n",
      "   name=\"sentence2\"\n",
      "   #total/missing=863/0\n",
      "   length, min/avg/max=15/58.80/265\n",
      ")\n",
      "- Categorical(\n",
      "   name=\"genre\"\n",
      "   #total/missing=863/0\n",
      "   num_class (total/non_special)=4/3\n",
      "   categories=['main-captions', 'main-forums', 'main-news']\n",
      "   freq=[307, 72, 484]\n",
      ")\n",
      "- Numerical(\n",
      "   name=\"score\"\n",
      "   #total/missing=863/0\n",
      "   shape=()\n",
      ")\n",
      "\n",
      "\n",
      "2020-08-02 09:40:23,177 - root - INFO - Label columns=['score'], Problem types=['regression'], Label shapes=[()]\n",
      "2020-08-02 09:40:23,178 - root - INFO - Eval Metric=mse, Stop Metric=mse, Log Metrics=['mse', 'rmse', 'mae']\n",
      "2020-08-02 09:40:23,178 - root - INFO - NumPy-shape semantics has been activated in your code. This is required for creating and manipulating scalar and zero-size tensors, which were not supported in MXNet before, as in the official NumPy library. Please DO NOT manually deactivate this semantics while using `mxnet.numpy` and `mxnet.numpy_extension` modules.\n"
     ]
    },
    {
     "data": {
      "application/vnd.jupyter.widget-view+json": {
       "model_id": "b938be174cb648b29d38e9ac9c8136cf",
       "version_major": 2,
       "version_minor": 0
      },
      "text/plain": [
       "HBox(children=(FloatProgress(value=0.0, max=4.0), HTML(value='')))"
      ]
     },
     "metadata": {},
     "output_type": "display_data"
    },
    {
     "name": "stdout",
     "output_type": "stream",
     "text": [
      "\n"
     ]
    },
    {
     "name": "stderr",
     "output_type": "stream",
     "text": [
      " 57%|█████▋    | 351/612 [01:00<00:44,  5.83it/s]\n",
      " 57%|█████▋    | 351/612 [01:00<00:44,  5.83it/s]\n",
      " 57%|█████▋    | 351/612 [01:00<00:44,  5.81it/s]\n",
      " 55%|█████▍    | 335/612 [01:00<00:50,  5.50it/s]\n"
     ]
    },
    {
     "data": {
      "image/png": "[encoded data removed]",
      "text/plain": [
       "<Figure size 432x288 with 1 Axes>"
      ]
     },
     "metadata": {
      "needs_background": "light"
     },
     "output_type": "display_data"
    }
   ],
   "source": [
    "import autogluon as ag\n",
    "from autogluon import TextPrediction as task\n",
    "\n",
    "predictor_score = task.fit(train_data, label='score',\n",
    "                           time_limits=60, ngpus_per_trial=1, seed=123,\n",
    "                           output_directory='./ag_sts_mixed_score')"
   ]
  },
  {
   "cell_type": "code",
   "execution_count": 4,
   "metadata": {},
   "outputs": [
    {
     "name": "stdout",
     "output_type": "stream",
     "text": [
      "Spearman Correlation= 0.8612579192204954\n"
     ]
    }
   ],
   "source": [
    "score = predictor_score.evaluate(dev_data, metrics='spearmanr')\n",
    "print('Spearman Correlation=', score['spearmanr'])"
   ]
  },
  {
   "cell_type": "markdown",
   "metadata": {},
   "source": [
    "In addition, we can also train a model that predicts the `genre` with the other columns"
   ]
  },
  {
   "cell_type": "code",
   "execution_count": 5,
   "metadata": {},
   "outputs": [
    {
     "name": "stderr",
     "output_type": "stream",
     "text": [
      "2020-08-02 09:41:39,290 - root - INFO - All Logs will be saved to ./ag_sts_mixed_genre/ag_text_prediction.log\n",
      "2020-08-02 09:41:39,312 - root - INFO - Train Dataset:\n",
      "2020-08-02 09:41:39,312 - root - INFO - Columns:\n",
      "\n",
      "- Text(\n",
      "   name=\"sentence1\"\n",
      "   #total/missing=4886/0\n",
      "   length, min/avg/max=16/57.94/367\n",
      ")\n",
      "- Text(\n",
      "   name=\"sentence2\"\n",
      "   #total/missing=4886/0\n",
      "   length, min/avg/max=15/57.80/311\n",
      ")\n",
      "- Categorical(\n",
      "   name=\"genre\"\n",
      "   #total/missing=4886/0\n",
      "   num_class (total/non_special)=3/3\n",
      "   categories=['main-captions', 'main-forums', 'main-news']\n",
      "   freq=[1699, 382, 2805]\n",
      ")\n",
      "- Numerical(\n",
      "   name=\"score\"\n",
      "   #total/missing=4886/0\n",
      "   shape=()\n",
      ")\n",
      "\n",
      "\n",
      "2020-08-02 09:41:39,313 - root - INFO - Tuning Dataset:\n",
      "2020-08-02 09:41:39,313 - root - INFO - Columns:\n",
      "\n",
      "- Text(\n",
      "   name=\"sentence1\"\n",
      "   #total/missing=863/0\n",
      "   length, min/avg/max=16/56.41/265\n",
      ")\n",
      "- Text(\n",
      "   name=\"sentence2\"\n",
      "   #total/missing=863/0\n",
      "   length, min/avg/max=16/56.04/256\n",
      ")\n",
      "- Categorical(\n",
      "   name=\"genre\"\n",
      "   #total/missing=863/0\n",
      "   num_class (total/non_special)=3/3\n",
      "   categories=['main-captions', 'main-forums', 'main-news']\n",
      "   freq=[301, 68, 494]\n",
      ")\n",
      "- Numerical(\n",
      "   name=\"score\"\n",
      "   #total/missing=863/0\n",
      "   shape=()\n",
      ")\n",
      "\n",
      "\n",
      "2020-08-02 09:41:39,314 - root - INFO - Label columns=['genre'], Problem types=['classification'], Label shapes=[3]\n",
      "2020-08-02 09:41:39,314 - root - INFO - Eval Metric=acc, Stop Metric=acc, Log Metrics=['acc', 'nll']\n"
     ]
    },
    {
     "data": {
      "application/vnd.jupyter.widget-view+json": {
       "model_id": "957082842f234273ac5a2889a5dc10ce",
       "version_major": 2,
       "version_minor": 0
      },
      "text/plain": [
       "HBox(children=(FloatProgress(value=0.0, max=4.0), HTML(value='')))"
      ]
     },
     "metadata": {},
     "output_type": "display_data"
    },
    {
     "name": "stdout",
     "output_type": "stream",
     "text": [
      "\n"
     ]
    },
    {
     "name": "stderr",
     "output_type": "stream",
     "text": [
      " 44%|████▍     | 271/612 [00:48<01:00,  5.64it/s]\n",
      " 60%|█████▉    | 367/612 [01:00<00:40,  6.11it/s]\n",
      " 63%|██████▎   | 383/612 [01:00<00:36,  6.30it/s]\n",
      " 60%|█████▉    | 367/612 [01:01<00:41,  5.95it/s]\n"
     ]
    },
    {
     "data": {
      "image/png": "[encoded data removed]",
      "text/plain": [
       "<Figure size 432x288 with 1 Axes>"
      ]
     },
     "metadata": {
      "needs_background": "light"
     },
     "output_type": "display_data"
    }
   ],
   "source": [
    "predictor_genre = task.fit(train_data, label='genre',\n",
    "                           time_limits=60, ngpus_per_trial=1, seed=123,\n",
    "                           output_directory='./ag_sts_mixed_genre')"
   ]
  },
  {
   "cell_type": "code",
   "execution_count": 6,
   "metadata": {},
   "outputs": [
    {
     "name": "stdout",
     "output_type": "stream",
     "text": [
      "Genre Accuracy = 84.93333333333334%\n"
     ]
    }
   ],
   "source": [
    "score = predictor_genre.evaluate(dev_data, metrics='acc')\n",
    "print('Genre Accuracy = {}%'.format(score['acc'] * 100))"
   ]
  }
 ],
 "metadata": {
  "kernelspec": {
   "display_name": "Python 3",
   "language": "python",
   "name": "python3"
  },
  "language_info": {
   "codemirror_mode": {
    "name": "ipython",
    "version": 3
   },
   "file_extension": ".py",
   "mimetype": "text/x-python",
   "name": "python",
   "nbconvert_exporter": "python",
   "pygments_lexer": "ipython3",
   "version": "3.6.9"
  }
 },
 "nbformat": 4,
 "nbformat_minor": 4
}
