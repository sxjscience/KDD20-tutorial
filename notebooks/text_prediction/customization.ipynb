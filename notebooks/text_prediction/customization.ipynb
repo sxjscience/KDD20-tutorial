{
 "cells": [
  {
   "cell_type": "markdown",
   "metadata": {},
   "source": [
    "# Text Prediction - Customization and HPO"
   ]
  },
  {
   "cell_type": "markdown",
   "metadata": {},
   "source": [
    "In this tutorial, we will learn how to customize the `TextPrediction` task in AutoGluon. We will use the \"Paraphrasing Identification\" for illustration. The goal of the task is to identify whether one sentence is a restatement of the other. In this example, we will use the [Microsoft Research Paraphrase Corpus](https://www.microsoft.com/en-us/download/details.aspx?id=52398). "
   ]
  },
  {
   "cell_type": "code",
   "execution_count": 1,
   "metadata": {},
   "outputs": [],
   "source": [
    "import numpy as np\n",
    "import warnings\n",
    "warnings.filterwarnings('ignore')\n",
    "np.random.seed(123)"
   ]
  },
  {
   "cell_type": "markdown",
   "metadata": {},
   "source": [
    "## Load Data"
   ]
  },
  {
   "cell_type": "code",
   "execution_count": 2,
   "metadata": {},
   "outputs": [
    {
     "name": "stderr",
     "output_type": "stream",
     "text": [
      "Loaded data from: https://autogluon-text.s3-accelerate.amazonaws.com/glue/mrpc/train.parquet | Columns = 3 / 3 | Rows = 3668 -> 3668\n",
      "Loaded data from: https://autogluon-text.s3-accelerate.amazonaws.com/glue/mrpc/dev.parquet | Columns = 3 / 3 | Rows = 408 -> 408\n"
     ]
    },
    {
     "data": {
      "text/html": [
       "<div>\n",
       "<style scoped>\n",
       "    .dataframe tbody tr th:only-of-type {\n",
       "        vertical-align: middle;\n",
       "    }\n",
       "\n",
       "    .dataframe tbody tr th {\n",
       "        vertical-align: top;\n",
       "    }\n",
       "\n",
       "    .dataframe thead th {\n",
       "        text-align: right;\n",
       "    }\n",
       "</style>\n",
       "<table border=\"1\" class=\"dataframe\">\n",
       "  <thead>\n",
       "    <tr style=\"text-align: right;\">\n",
       "      <th></th>\n",
       "      <th>sentence1</th>\n",
       "      <th>sentence2</th>\n",
       "      <th>label</th>\n",
       "    </tr>\n",
       "  </thead>\n",
       "  <tbody>\n",
       "    <tr>\n",
       "      <th>0</th>\n",
       "      <td>Amrozi accused his brother , whom he called \" ...</td>\n",
       "      <td>Referring to him as only \" the witness \" , Amr...</td>\n",
       "      <td>1</td>\n",
       "    </tr>\n",
       "    <tr>\n",
       "      <th>1</th>\n",
       "      <td>Yucaipa owned Dominick 's before selling the c...</td>\n",
       "      <td>Yucaipa bought Dominick 's in 1995 for $ 693 m...</td>\n",
       "      <td>0</td>\n",
       "    </tr>\n",
       "    <tr>\n",
       "      <th>2</th>\n",
       "      <td>They had published an advertisement on the Int...</td>\n",
       "      <td>On June 10 , the ship 's owners had published ...</td>\n",
       "      <td>1</td>\n",
       "    </tr>\n",
       "    <tr>\n",
       "      <th>3</th>\n",
       "      <td>Around 0335 GMT , Tab shares were up 19 cents ...</td>\n",
       "      <td>Tab shares jumped 20 cents , or 4.6 % , to set...</td>\n",
       "      <td>0</td>\n",
       "    </tr>\n",
       "    <tr>\n",
       "      <th>4</th>\n",
       "      <td>The stock rose $ 2.11 , or about 11 percent , ...</td>\n",
       "      <td>PG &amp; E Corp. shares jumped $ 1.63 or 8 percent...</td>\n",
       "      <td>1</td>\n",
       "    </tr>\n",
       "    <tr>\n",
       "      <th>5</th>\n",
       "      <td>Revenue in the first quarter of the year dropp...</td>\n",
       "      <td>With the scandal hanging over Stewart 's compa...</td>\n",
       "      <td>1</td>\n",
       "    </tr>\n",
       "    <tr>\n",
       "      <th>6</th>\n",
       "      <td>The Nasdaq had a weekly gain of 17.27 , or 1.2...</td>\n",
       "      <td>The tech-laced Nasdaq Composite .IXIC rallied ...</td>\n",
       "      <td>0</td>\n",
       "    </tr>\n",
       "    <tr>\n",
       "      <th>7</th>\n",
       "      <td>The DVD-CCA then appealed to the state Supreme...</td>\n",
       "      <td>The DVD CCA appealed that decision to the U.S....</td>\n",
       "      <td>1</td>\n",
       "    </tr>\n",
       "    <tr>\n",
       "      <th>8</th>\n",
       "      <td>That compared with $ 35.18 million , or 24 cen...</td>\n",
       "      <td>Earnings were affected by a non-recurring $ 8 ...</td>\n",
       "      <td>0</td>\n",
       "    </tr>\n",
       "    <tr>\n",
       "      <th>9</th>\n",
       "      <td>Shares of Genentech , a much larger company wi...</td>\n",
       "      <td>Shares of Xoma fell 16 percent in early trade ...</td>\n",
       "      <td>0</td>\n",
       "    </tr>\n",
       "  </tbody>\n",
       "</table>\n",
       "</div>"
      ],
      "text/plain": [
       "                                           sentence1  \\\n",
       "0  Amrozi accused his brother , whom he called \" ...   \n",
       "1  Yucaipa owned Dominick 's before selling the c...   \n",
       "2  They had published an advertisement on the Int...   \n",
       "3  Around 0335 GMT , Tab shares were up 19 cents ...   \n",
       "4  The stock rose $ 2.11 , or about 11 percent , ...   \n",
       "5  Revenue in the first quarter of the year dropp...   \n",
       "6  The Nasdaq had a weekly gain of 17.27 , or 1.2...   \n",
       "7  The DVD-CCA then appealed to the state Supreme...   \n",
       "8  That compared with $ 35.18 million , or 24 cen...   \n",
       "9  Shares of Genentech , a much larger company wi...   \n",
       "\n",
       "                                           sentence2  label  \n",
       "0  Referring to him as only \" the witness \" , Amr...      1  \n",
       "1  Yucaipa bought Dominick 's in 1995 for $ 693 m...      0  \n",
       "2  On June 10 , the ship 's owners had published ...      1  \n",
       "3  Tab shares jumped 20 cents , or 4.6 % , to set...      0  \n",
       "4  PG & E Corp. shares jumped $ 1.63 or 8 percent...      1  \n",
       "5  With the scandal hanging over Stewart 's compa...      1  \n",
       "6  The tech-laced Nasdaq Composite .IXIC rallied ...      0  \n",
       "7  The DVD CCA appealed that decision to the U.S....      1  \n",
       "8  Earnings were affected by a non-recurring $ 8 ...      0  \n",
       "9  Shares of Xoma fell 16 percent in early trade ...      0  "
      ]
     },
     "execution_count": 2,
     "metadata": {},
     "output_type": "execute_result"
    }
   ],
   "source": [
    "from autogluon.utils.tabular.utils.loaders import load_pd\n",
    "\n",
    "train_data = load_pd.load('https://autogluon-text.s3-accelerate.amazonaws.com/glue/mrpc/train.parquet')\n",
    "dev_data = load_pd.load('https://autogluon-text.s3-accelerate.amazonaws.com/glue/mrpc/dev.parquet')\n",
    "train_data.head(10)"
   ]
  },
  {
   "cell_type": "code",
   "execution_count": 3,
   "metadata": {},
   "outputs": [
    {
     "name": "stdout",
     "output_type": "stream",
     "text": [
      "Paraphrase:\n",
      "Sentence1:  Revenue in the first quarter of the year dropped 15 percent from the same period a year earlier.\n",
      "Sentence2:  With the scandal hanging over Stewart's company, revenue the first quarter of the year dropped 15 percent from the same period a year earlier.\n",
      "Label:  1\n",
      "\n",
      "Not Paraphrase:\n",
      "Sentence1: That compared with $35.18 million, or 24 cents per share, in the year-ago period.\n",
      "Sentence2: Earnings were affected by a non-recurring $8 million tax benefit in the year-ago period.\n",
      "Label: 0\n"
     ]
    }
   ],
   "source": [
    "from autogluon_contrib_nlp.data.tokenizers import MosesTokenizer\n",
    "tokenizer = MosesTokenizer('en')\n",
    "print('Paraphrase:')\n",
    "print('Sentence1: ', tokenizer.decode(train_data['sentence1'][5].split()))\n",
    "print('Sentence2: ', tokenizer.decode(train_data['sentence2'][5].split()))\n",
    "print('Label: ', train_data['label'][2])\n",
    "\n",
    "print('\\nNot Paraphrase:')\n",
    "print('Sentence1:', tokenizer.decode(train_data['sentence1'][8].split()))\n",
    "print('Sentence2:', tokenizer.decode(train_data['sentence2'][8].split()))\n",
    "print('Label:', train_data['label'][3])"
   ]
  },
  {
   "cell_type": "markdown",
   "metadata": {},
   "source": [
    "## Explore a Custoimzed Search Space with Random Search"
   ]
  },
  {
   "cell_type": "markdown",
   "metadata": {},
   "source": [
    "Here, we can set the `hyperparameters` argument and specify the search space with `ag.space`. In this example, we search for the `warmup_portion`, `learning_rate`, `data_dropout`, `layerwise_lr_decay`, and `num_layers`."
   ]
  },
  {
   "cell_type": "code",
   "execution_count": 4,
   "metadata": {
    "scrolled": true
   },
   "outputs": [
    {
     "name": "stderr",
     "output_type": "stream",
     "text": [
      "2020-08-02 09:29:33,370 - root - INFO - All Logs will be saved to ./ag_mrpc_random_search/ag_text_prediction.log\n",
      "2020-08-02 09:29:33,386 - root - INFO - Train Dataset:\n",
      "2020-08-02 09:29:33,387 - root - INFO - Columns:\n",
      "\n",
      "- Text(\n",
      "   name=\"sentence1\"\n",
      "   #total/missing=3117/0\n",
      "   length, min/avg/max=38/118.59/226\n",
      ")\n",
      "- Text(\n",
      "   name=\"sentence2\"\n",
      "   #total/missing=3117/0\n",
      "   length, min/avg/max=42/118.93/215\n",
      ")\n",
      "- Categorical(\n",
      "   name=\"label\"\n",
      "   #total/missing=3117/0\n",
      "   num_class (total/non_special)=2/2\n",
      "   categories=[0, 1]\n",
      "   freq=[1017, 2100]\n",
      ")\n",
      "\n",
      "\n",
      "2020-08-02 09:29:33,387 - root - INFO - Tuning Dataset:\n",
      "2020-08-02 09:29:33,388 - root - INFO - Columns:\n",
      "\n",
      "- Text(\n",
      "   name=\"sentence1\"\n",
      "   #total/missing=551/0\n",
      "   length, min/avg/max=40/117.86/205\n",
      ")\n",
      "- Text(\n",
      "   name=\"sentence2\"\n",
      "   #total/missing=551/0\n",
      "   length, min/avg/max=48/117.86/205\n",
      ")\n",
      "- Categorical(\n",
      "   name=\"label\"\n",
      "   #total/missing=551/0\n",
      "   num_class (total/non_special)=2/2\n",
      "   categories=[0, 1]\n",
      "   freq=[177, 374]\n",
      ")\n",
      "\n",
      "\n",
      "2020-08-02 09:29:33,388 - root - INFO - Label columns=['label'], Problem types=['classification'], Label shapes=[2]\n",
      "2020-08-02 09:29:33,389 - root - INFO - Eval Metric=acc, Stop Metric=acc, Log Metrics=['f1', 'mcc', 'auc', 'acc', 'nll']\n",
      "2020-08-02 09:29:33,389 - root - INFO - NumPy-shape semantics has been activated in your code. This is required for creating and manipulating scalar and zero-size tensors, which were not supported in MXNet before, as in the official NumPy library. Please DO NOT manually deactivate this semantics while using `mxnet.numpy` and `mxnet.numpy_extension` modules.\n"
     ]
    },
    {
     "data": {
      "application/vnd.jupyter.widget-view+json": {
       "model_id": "00ffc6f323124f97a5b6fbb76b5586e9",
       "version_major": 2,
       "version_minor": 0
      },
      "text/plain": [
       "HBox(children=(FloatProgress(value=0.0, max=5.0), HTML(value='')))"
      ]
     },
     "metadata": {},
     "output_type": "display_data"
    },
    {
     "name": "stderr",
     "output_type": "stream",
     "text": [
      " 41%|████      | 159/388 [00:30<00:43,  5.25it/s]\n",
      " 43%|████▎     | 165/388 [00:31<00:30,  7.41it/s]"
     ]
    },
    {
     "name": "stdout",
     "output_type": "stream",
     "text": [
      "\n"
     ]
    },
    {
     "name": "stderr",
     "output_type": "stream",
     "text": [
      " 59%|█████▉    | 229/388 [00:41<00:28,  5.49it/s]\n",
      " 67%|██████▋   | 259/388 [00:47<00:23,  5.44it/s]\n",
      "100%|██████████| 388/388 [01:09<00:00,  5.61it/s]\n",
      " 69%|██████▉   | 269/388 [00:48<00:21,  5.54it/s]\n"
     ]
    },
    {
     "data": {
      "image/png": "[encoded data removed]",
      "text/plain": [
       "<Figure size 432x288 with 1 Axes>"
      ]
     },
     "metadata": {
      "needs_background": "light"
     },
     "output_type": "display_data"
    }
   ],
   "source": [
    "import autogluon as ag\n",
    "from autogluon import TextPrediction as task\n",
    "\n",
    "hyperparameters = {\n",
    "    'models': {\n",
    "            'BertForTextPredictionBasic': {\n",
    "                'search_space': {\n",
    "                    'model.network.agg_net.num_layers': ag.space.Categorical(0, 1, 2),\n",
    "                    'model.network.agg_net.data_dropout': ag.space.Categorical(False, True),\n",
    "                    'optimization.num_train_epochs': 4,\n",
    "                    'optimization.warmup_portion': ag.space.Real(0.1, 0.2),\n",
    "                    'optimization.layerwise_lr_decay': ag.space.Real(0.8, 1.0),\n",
    "                    'optimization.lr': ag.space.Real(1E-5, 1E-4)\n",
    "                }\n",
    "            }\n",
    "    },\n",
    "    'hpo_params': {\n",
    "        'scheduler': 'fifo',\n",
    "        'search_strategy': 'random'\n",
    "    }\n",
    "}\n",
    "\n",
    "predictor_mrpc = task.fit(train_data, label='label',\n",
    "                          hyperparameters=hyperparameters,\n",
    "                          num_trials=5,\n",
    "                          time_limits=60 * 5, ngpus_per_trial=1, seed=123,\n",
    "                          output_directory='./ag_mrpc_random_search')"
   ]
  },
  {
   "cell_type": "code",
   "execution_count": 5,
   "metadata": {},
   "outputs": [
    {
     "name": "stdout",
     "output_type": "stream",
     "text": [
      "Best Config = {'search_space▁model.network.agg_net.data_dropout▁choice': 1, 'search_space▁model.network.agg_net.num_layers▁choice': 1, 'search_space▁optimization.layerwise_lr_decay': 0.8333501491631055, 'search_space▁optimization.lr': 6.860067163930919e-05, 'search_space▁optimization.warmup_portion': 0.17063176107868006}\n",
      "Total Time = 92.5273380279541s\n",
      "Accuracy = 82.84%\n",
      "F1 = 88.14%\n"
     ]
    }
   ],
   "source": [
    "dev_score = predictor_mrpc.evaluate(dev_data, metrics=['acc', 'f1'])\n",
    "print('Best Config = {}'.format(predictor_mrpc.results['best_config']))\n",
    "print('Total Time = {}s'.format(predictor_mrpc.results['total_time']))\n",
    "print('Accuracy = {:.2f}%'.format(dev_score['acc'] * 100))\n",
    "print('F1 = {:.2f}%'.format(dev_score['f1'] * 100))"
   ]
  },
  {
   "cell_type": "code",
   "execution_count": 6,
   "metadata": {},
   "outputs": [
    {
     "name": "stdout",
     "output_type": "stream",
     "text": [
      "A = \"It is simple to solve NLP problems with AutoGluon.\"\n",
      "B = \"With AutoGluon, it is easy to solve NLP problems.\"\n",
      "Prediction = \"True\"\n",
      "Prob = \"[0.05875021 0.9412498 ]\"\n",
      "\n",
      "A = \"It is simple to solve NLP problems with AutoGluon.\"\n",
      "B = \"AutoGluon gives you a very bad user experience for solving NLP problems.\"\n",
      "Prediction = \"False\"\n",
      "Prob = \"[0.7339565  0.26604348]\"\n"
     ]
    }
   ],
   "source": [
    "predictions = predictor_mrpc.predict(dev_data)\n",
    "sentence1 = 'It is simple to solve NLP problems with AutoGluon.'\n",
    "sentence2 = 'With AutoGluon, it is easy to solve NLP problems.'\n",
    "sentence3 = 'AutoGluon gives you a very bad user experience for solving NLP problems.'\n",
    "prediction1 = predictor_mrpc.predict({'sentence1': [sentence1], 'sentence2': [sentence2]})\n",
    "prediction1_prob = predictor_mrpc.predict_proba({'sentence1': [sentence1], 'sentence2': [sentence2]})\n",
    "print('A = \"{}\"'.format(sentence1))\n",
    "print('B = \"{}\"'.format(sentence2))\n",
    "print('Prediction = \"{}\"'.format(prediction1[0] == 1))\n",
    "print('Prob = \"{}\"'.format(prediction1_prob[0]))\n",
    "print('')\n",
    "prediction2 = predictor_mrpc.predict({'sentence1': [sentence1], 'sentence2': [sentence3]})\n",
    "prediction2_prob = predictor_mrpc.predict_proba({'sentence1': [sentence1], 'sentence2': [sentence3]})\n",
    "print('A = \"{}\"'.format(sentence1))\n",
    "print('B = \"{}\"'.format(sentence3))\n",
    "print('Prediction = \"{}\"'.format(prediction2[0] == 1))\n",
    "print('Prob = \"{}\"'.format(prediction2_prob[0]))"
   ]
  },
  {
   "cell_type": "markdown",
   "metadata": {},
   "source": [
    "## Use Bayesian Optimization"
   ]
  },
  {
   "cell_type": "markdown",
   "metadata": {},
   "source": [
    "Apart from random search, we can use the scikit-optimize package as the searcher:"
   ]
  },
  {
   "cell_type": "code",
   "execution_count": 7,
   "metadata": {},
   "outputs": [
    {
     "name": "stderr",
     "output_type": "stream",
     "text": [
      "2020-08-02 09:31:12,126 - root - INFO - All Logs will be saved to ./ag_mrpc_custom_space_fifo_skopt/ag_text_prediction.log\n",
      "2020-08-02 09:31:12,142 - root - INFO - Train Dataset:\n",
      "2020-08-02 09:31:12,142 - root - INFO - Columns:\n",
      "\n",
      "- Text(\n",
      "   name=\"sentence1\"\n",
      "   #total/missing=3117/0\n",
      "   length, min/avg/max=38/118.45/226\n",
      ")\n",
      "- Text(\n",
      "   name=\"sentence2\"\n",
      "   #total/missing=3117/0\n",
      "   length, min/avg/max=42/118.88/212\n",
      ")\n",
      "- Categorical(\n",
      "   name=\"label\"\n",
      "   #total/missing=3117/0\n",
      "   num_class (total/non_special)=2/2\n",
      "   categories=[0, 1]\n",
      "   freq=[1009, 2108]\n",
      ")\n",
      "\n",
      "\n",
      "2020-08-02 09:31:12,143 - root - INFO - Tuning Dataset:\n",
      "2020-08-02 09:31:12,143 - root - INFO - Columns:\n",
      "\n",
      "- Text(\n",
      "   name=\"sentence1\"\n",
      "   #total/missing=551/0\n",
      "   length, min/avg/max=45/118.65/205\n",
      ")\n",
      "- Text(\n",
      "   name=\"sentence2\"\n",
      "   #total/missing=551/0\n",
      "   length, min/avg/max=53/118.14/215\n",
      ")\n",
      "- Categorical(\n",
      "   name=\"label\"\n",
      "   #total/missing=551/0\n",
      "   num_class (total/non_special)=2/2\n",
      "   categories=[0, 1]\n",
      "   freq=[185, 366]\n",
      ")\n",
      "\n",
      "\n",
      "2020-08-02 09:31:12,143 - root - INFO - Label columns=['label'], Problem types=['classification'], Label shapes=[2]\n",
      "2020-08-02 09:31:12,144 - root - INFO - Eval Metric=acc, Stop Metric=acc, Log Metrics=['f1', 'mcc', 'auc', 'acc', 'nll']\n"
     ]
    },
    {
     "data": {
      "application/vnd.jupyter.widget-view+json": {
       "model_id": "727e982b848342c4b84ca55c05465eef",
       "version_major": 2,
       "version_minor": 0
      },
      "text/plain": [
       "HBox(children=(FloatProgress(value=0.0, max=5.0), HTML(value='')))"
      ]
     },
     "metadata": {},
     "output_type": "display_data"
    },
    {
     "name": "stderr",
     "output_type": "stream",
     "text": [
      " 82%|████████▏ | 319/388 [00:57<00:12,  5.55it/s]\n",
      " 81%|████████  | 314/388 [00:58<00:11,  6.34it/s]"
     ]
    },
    {
     "name": "stdout",
     "output_type": "stream",
     "text": [
      "\n"
     ]
    },
    {
     "name": "stderr",
     "output_type": "stream",
     "text": [
      " 85%|████████▍ | 329/388 [00:59<00:10,  5.54it/s]\n",
      "100%|██████████| 388/388 [01:11<00:00,  5.40it/s]\n",
      "100%|██████████| 388/388 [01:12<00:00,  5.38it/s]\n",
      "100%|██████████| 388/388 [01:07<00:00,  5.72it/s]\n"
     ]
    },
    {
     "data": {
      "image/png": "[encoded data removed]",
      "text/plain": [
       "<Figure size 432x288 with 1 Axes>"
      ]
     },
     "metadata": {
      "needs_background": "light"
     },
     "output_type": "display_data"
    }
   ],
   "source": [
    "hyperparameters['hpo_params'] = {\n",
    "    'scheduler': 'fifo',\n",
    "    'search_strategy': 'skopt'\n",
    "}\n",
    "\n",
    "predictor_mrpc_skopt = task.fit(train_data, label='label',\n",
    "                                hyperparameters=hyperparameters,\n",
    "                                time_limits=60 * 5,\n",
    "                                num_trials=5,\n",
    "                                ngpus_per_trial=1, seed=123,\n",
    "                                output_directory='./ag_mrpc_custom_space_fifo_skopt')"
   ]
  },
  {
   "cell_type": "code",
   "execution_count": 8,
   "metadata": {},
   "outputs": [
    {
     "name": "stdout",
     "output_type": "stream",
     "text": [
      "Best Config = {'search_space▁model.network.agg_net.data_dropout▁choice': 0, 'search_space▁model.network.agg_net.num_layers▁choice': 2, 'search_space▁optimization.layerwise_lr_decay': 0.8927640128151711, 'search_space▁optimization.lr': 6.68360725095595e-05, 'search_space▁optimization.warmup_portion': 0.19412409632412153}\n",
      "Total Time = 138.81910848617554s\n",
      "Accuracy = 83.82%\n",
      "F1 = 88.26%\n"
     ]
    }
   ],
   "source": [
    "dev_score = predictor_mrpc_skopt.evaluate(dev_data, metrics=['acc', 'f1'])\n",
    "print('Best Config = {}'.format(predictor_mrpc_skopt.results['best_config']))\n",
    "print('Total Time = {}s'.format(predictor_mrpc_skopt.results['total_time']))\n",
    "print('Accuracy = {:.2f}%'.format(dev_score['acc'] * 100))\n",
    "print('F1 = {:.2f}%'.format(dev_score['f1'] * 100))"
   ]
  },
  {
   "cell_type": "code",
   "execution_count": 9,
   "metadata": {},
   "outputs": [
    {
     "name": "stdout",
     "output_type": "stream",
     "text": [
      "A = \"It is simple to solve NLP problems with AutoGluon.\"\n",
      "B = \"With AutoGluon, it is easy to solve NLP problems.\"\n",
      "Prediction = \"True\"\n",
      "Prob = \"[0.00109729 0.9989027 ]\"\n",
      "\n",
      "A = \"It is simple to solve NLP problems with AutoGluon.\"\n",
      "B = \"AutoGluon gives you a very bad user experience for solving NLP problems.\"\n",
      "Prediction = \"False\"\n",
      "Prob = \"[0.78841054 0.21158938]\"\n"
     ]
    }
   ],
   "source": [
    "predictions = predictor_mrpc_skopt.predict(dev_data)\n",
    "prediction1 = predictor_mrpc_skopt.predict({'sentence1': [sentence1], 'sentence2': [sentence2]})\n",
    "prediction1_prob = predictor_mrpc_skopt.predict_proba({'sentence1': [sentence1], 'sentence2': [sentence2]})\n",
    "print('A = \"{}\"'.format(sentence1))\n",
    "print('B = \"{}\"'.format(sentence2))\n",
    "print('Prediction = \"{}\"'.format(prediction1[0] == 1))\n",
    "print('Prob = \"{}\"'.format(prediction1_prob[0]))\n",
    "print('')\n",
    "prediction2 = predictor_mrpc_skopt.predict({'sentence1': [sentence1], 'sentence2': [sentence3]})\n",
    "prediction2_prob = predictor_mrpc_skopt.predict_proba({'sentence1': [sentence1], 'sentence2': [sentence3]})\n",
    "print('A = \"{}\"'.format(sentence1))\n",
    "print('B = \"{}\"'.format(sentence3))\n",
    "print('Prediction = \"{}\"'.format(prediction2[0] == 1))\n",
    "print('Prob = \"{}\"'.format(prediction2_prob[0]))"
   ]
  },
  {
   "cell_type": "markdown",
   "metadata": {},
   "source": [
    "## Use Hyperband"
   ]
  },
  {
   "cell_type": "markdown",
   "metadata": {},
   "source": [
    "We can also use the [Hyperband algorithm](https://arxiv.org/pdf/1603.06560.pdf):"
   ]
  },
  {
   "cell_type": "code",
   "execution_count": 10,
   "metadata": {},
   "outputs": [],
   "source": [
    "hyperparameters['hpo_params'] = {\n",
    "    'scheduler': 'hyperband',\n",
    "    'search_strategy': 'random',\n",
    "    'max_t': 40,\n",
    "}"
   ]
  },
  {
   "cell_type": "code",
   "execution_count": null,
   "metadata": {},
   "outputs": [
    {
     "name": "stderr",
     "output_type": "stream",
     "text": [
      "2020-08-02 09:33:37,068 - root - INFO - All Logs will be saved to ./ag_mrpc_custom_space_hyperband/ag_text_prediction.log\n",
      "2020-08-02 09:33:37,083 - root - INFO - Train Dataset:\n",
      "2020-08-02 09:33:37,084 - root - INFO - Columns:\n",
      "\n",
      "- Text(\n",
      "   name=\"sentence1\"\n",
      "   #total/missing=3117/0\n",
      "   length, min/avg/max=38/118.75/220\n",
      ")\n",
      "- Text(\n",
      "   name=\"sentence2\"\n",
      "   #total/missing=3117/0\n",
      "   length, min/avg/max=43/119.08/215\n",
      ")\n",
      "- Categorical(\n",
      "   name=\"label\"\n",
      "   #total/missing=3117/0\n",
      "   num_class (total/non_special)=2/2\n",
      "   categories=[0, 1]\n",
      "   freq=[1015, 2102]\n",
      ")\n",
      "\n",
      "\n",
      "2020-08-02 09:33:37,084 - root - INFO - Tuning Dataset:\n",
      "2020-08-02 09:33:37,085 - root - INFO - Columns:\n",
      "\n",
      "- Text(\n",
      "   name=\"sentence1\"\n",
      "   #total/missing=551/0\n",
      "   length, min/avg/max=38/116.98/226\n",
      ")\n",
      "- Text(\n",
      "   name=\"sentence2\"\n",
      "   #total/missing=551/0\n",
      "   length, min/avg/max=42/116.99/210\n",
      ")\n",
      "- Categorical(\n",
      "   name=\"label\"\n",
      "   #total/missing=551/0\n",
      "   num_class (total/non_special)=2/2\n",
      "   categories=[0, 1]\n",
      "   freq=[179, 372]\n",
      ")\n",
      "\n",
      "\n",
      "2020-08-02 09:33:37,085 - root - INFO - Label columns=['label'], Problem types=['classification'], Label shapes=[2]\n",
      "2020-08-02 09:33:37,086 - root - INFO - Eval Metric=acc, Stop Metric=acc, Log Metrics=['f1', 'mcc', 'auc', 'acc', 'nll']\n",
      " 28%|██▊       | 109/388 [00:22<00:56,  4.90it/s]\n",
      " 54%|█████▍    | 209/388 [00:39<00:34,  5.25it/s]\n",
      " 28%|██▊       | 109/388 [00:20<00:53,  5.25it/s]\n",
      " 80%|███████▉  | 309/388 [00:55<00:14,  5.57it/s]\n",
      " 28%|██▊       | 109/388 [00:22<00:56,  4.95it/s]\n",
      " 98%|█████████▊| 379/388 [01:09<00:01,  5.42it/s]\n",
      " 28%|██▊       | 109/388 [00:21<00:55,  5.00it/s]\n",
      " 28%|██▊       | 109/388 [00:22<00:57,  4.88it/s]\n",
      " 28%|██▊       | 109/388 [00:22<00:56,  4.92it/s]\n",
      " 28%|██▊       | 109/388 [00:22<00:56,  4.93it/s]\n",
      " 28%|██▊       | 109/388 [00:21<00:55,  5.02it/s]\n",
      " 59%|█████▉    | 229/388 [00:43<00:30,  5.25it/s]\n",
      " 28%|██▊       | 109/388 [00:21<00:54,  5.10it/s]\n",
      " 28%|██▊       | 109/388 [00:22<00:56,  4.91it/s]\n",
      " 54%|█████▍    | 209/388 [00:38<00:33,  5.41it/s]\n",
      " 28%|██▊       | 109/388 [00:21<00:55,  5.04it/s]\n",
      "100%|██████████| 388/388 [01:09<00:00,  5.55it/s]\n",
      " 28%|██▊       | 109/388 [00:22<00:57,  4.89it/s]\n",
      " 28%|██▊       | 109/388 [00:22<00:56,  4.90it/s]\n",
      " 28%|██▊       | 109/388 [00:22<00:56,  4.95it/s]\n",
      " 28%|██▊       | 109/388 [00:21<00:55,  4.99it/s]\n",
      " 28%|██▊       | 109/388 [00:21<00:56,  4.96it/s]\n",
      " 28%|██▊       | 109/388 [00:21<00:55,  5.05it/s]\n",
      " 69%|██████▉   | 269/388 [00:50<00:22,  5.31it/s]\n",
      " 28%|██▊       | 109/388 [00:21<00:54,  5.13it/s]\n",
      "  1%|          | 4/388 [00:01<02:24,  2.66it/s]s]"
     ]
    }
   ],
   "source": [
    "predictor_mrpc_hyperband = task.fit(train_data, label='label',\n",
    "                                    hyperparameters=hyperparameters,\n",
    "                                    time_limits=60 * 5, ngpus_per_trial=1, seed=123,\n",
    "                                    output_directory='./ag_mrpc_custom_space_hyperband')"
   ]
  },
  {
   "cell_type": "code",
   "execution_count": null,
   "metadata": {},
   "outputs": [],
   "source": [
    "dev_score = predictor_mrpc_hyperband.evaluate(dev_data, metrics=['acc', 'f1'])\n",
    "print('Best Config = {}'.format(predictor_mrpc_hyperband.results['best_config']))\n",
    "print('Total Time = {}s'.format(predictor_mrpc_hyperband.results['total_time']))\n",
    "print('Accuracy = {:.2f}%'.format(dev_score['acc'] * 100))\n",
    "print('F1 = {:.2f}%'.format(dev_score['f1'] * 100))"
   ]
  },
  {
   "cell_type": "code",
   "execution_count": null,
   "metadata": {},
   "outputs": [],
   "source": [
    "predictions = predictor_mrpc_hyperband.predict(dev_data)\n",
    "prediction1 = predictor_mrpc_hyperband.predict({'sentence1': [sentence1], 'sentence2': [sentence2]})\n",
    "prediction1_prob = predictor_mrpc_hyperband.predict_proba({'sentence1': [sentence1], 'sentence2': [sentence2]})\n",
    "print('A = \"{}\"'.format(sentence1))\n",
    "print('B = \"{}\"'.format(sentence2))\n",
    "print('Prediction = \"{}\"'.format(prediction1[0] == 1))\n",
    "print('Prob = \"{}\"'.format(prediction1_prob[0]))\n",
    "print('')\n",
    "prediction2 = predictor_mrpc_hyperband.predict({'sentence1': [sentence1], 'sentence2': [sentence3]})\n",
    "prediction2_prob = predictor_mrpc_hyperband.predict_proba({'sentence1': [sentence1], 'sentence2': [sentence3]})\n",
    "print('A = \"{}\"'.format(sentence1))\n",
    "print('B = \"{}\"'.format(sentence3))\n",
    "print('Prediction = \"{}\"'.format(prediction2[0] == 1))\n",
    "print('Prob = \"{}\"'.format(prediction2_prob[0]))"
   ]
  },
  {
   "cell_type": "code",
   "execution_count": null,
   "metadata": {},
   "outputs": [],
   "source": []
  }
 ],
 "metadata": {
  "kernelspec": {
   "display_name": "Python 3",
   "language": "python",
   "name": "python3"
  },
  "language_info": {
   "codemirror_mode": {
    "name": "ipython",
    "version": 3
   },
   "file_extension": ".py",
   "mimetype": "text/x-python",
   "name": "python",
   "nbconvert_exporter": "python",
   "pygments_lexer": "ipython3",
   "version": "3.6.9"
  }
 },
 "nbformat": 4,
 "nbformat_minor": 4
}
